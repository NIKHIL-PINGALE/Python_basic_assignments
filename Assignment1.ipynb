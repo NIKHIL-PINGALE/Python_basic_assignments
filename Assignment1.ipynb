{
  "nbformat": 4,
  "nbformat_minor": 0,
  "metadata": {
    "colab": {
      "name": "Assignment1.ipynb",
      "provenance": [],
      "collapsed_sections": [],
      "toc_visible": true,
      "authorship_tag": "ABX9TyMimhV8/o/Ixhtoj/eUVns2",
      "include_colab_link": true
    },
    "kernelspec": {
      "display_name": "Python 3",
      "name": "python3"
    },
    "language_info": {
      "name": "python"
    }
  },
  "cells": [
    {
      "cell_type": "markdown",
      "metadata": {
        "id": "view-in-github",
        "colab_type": "text"
      },
      "source": [
        "<a href=\"https://colab.research.google.com/github/NIKHIL-PINGALE/Python_basic_assignments/blob/main/Assignment1.ipynb\" target=\"_parent\"><img src=\"https://colab.research.google.com/assets/colab-badge.svg\" alt=\"Open In Colab\"/></a>"
      ]
    },
    {
      "cell_type": "markdown",
      "metadata": {
        "id": "3NgKUFXVA35z"
      },
      "source": [
        "# **Q1. Write a Python program to print \"Hello Python\"**"
      ]
    },
    {
      "cell_type": "code",
      "metadata": {
        "colab": {
          "base_uri": "https://localhost:8080/"
        },
        "id": "BTa6O-FeA0GB",
        "outputId": "d2a831f3-b298-461f-c628-c49b8083c8b7"
      },
      "source": [
        "print(\"Hello Python\") "
      ],
      "execution_count": null,
      "outputs": [
        {
          "output_type": "stream",
          "text": [
            "Hello Python\n"
          ],
          "name": "stdout"
        }
      ]
    },
    {
      "cell_type": "markdown",
      "metadata": {
        "id": "bM08gD2NBWS9"
      },
      "source": [
        "# **Q2. Write a Python program to do arithmetical operations addition and division.**"
      ]
    },
    {
      "cell_type": "code",
      "metadata": {
        "colab": {
          "base_uri": "https://localhost:8080/"
        },
        "id": "CryXL5gEBSBO",
        "outputId": "a5b78893-d707-4d6b-bf31-bd0f5d577d37"
      },
      "source": [
        "#input x and y from user and perform addition and division\n",
        "x = int(input(\"enter value of x = \"))\n",
        "y = int(input(\"enter value of y = \"))\n",
        "print(\"addition is =\",x+y)\n",
        "print(\"division is =\",x/y)\n"
      ],
      "execution_count": null,
      "outputs": [
        {
          "output_type": "stream",
          "text": [
            "enter value of x = 30\n",
            "enter value of y = 3\n",
            "addition is = 33\n",
            "division is = 10.0\n"
          ],
          "name": "stdout"
        }
      ]
    },
    {
      "cell_type": "markdown",
      "metadata": {
        "id": "-B90pLeAB_za"
      },
      "source": [
        "# **Q3. Write a Python program to find the area of a triangle?**"
      ]
    },
    {
      "cell_type": "markdown",
      "metadata": {
        "id": "oZpROUbZCyUo"
      },
      "source": [
        "area on the basis of sides of a triangle\n"
      ]
    },
    {
      "cell_type": "code",
      "metadata": {
        "colab": {
          "base_uri": "https://localhost:8080/"
        },
        "id": "Y4W5jeoxCxxo",
        "outputId": "fe5dcb04-8f61-4b3c-e174-8b8c8ac3e69f"
      },
      "source": [
        "#input all sides of a triangle\n",
        "x=eval(input(\"enter side 1 = \"))\n",
        "y=eval(input(\"enter side 2 = \"))\n",
        "z=eval(input(\"enter side 3 = \"))\n",
        "#calculate semiperimeter of a triangle\n",
        "s=(x+y+z)/2\n",
        "#now,calculate area \n",
        "area=(s*(s-x)*(s-y)*(s-z))**0.5\n",
        "print(\"area of triangle is =\",area)"
      ],
      "execution_count": 9,
      "outputs": [
        {
          "output_type": "stream",
          "text": [
            "enter side 1 = 2\n",
            "enter side 2 = 3\n",
            "enter side 3 = 4\n",
            "area of triangle is = 2.9047375096555625\n"
          ],
          "name": "stdout"
        }
      ]
    },
    {
      "cell_type": "markdown",
      "metadata": {
        "id": "C5sZ2uAfCqeJ"
      },
      "source": [
        "area on the basis of height and base of a triangle\n"
      ]
    },
    {
      "cell_type": "code",
      "metadata": {
        "colab": {
          "base_uri": "https://localhost:8080/"
        },
        "id": "U5scY2LnB061",
        "outputId": "0522660d-b32d-4d04-cd80-460d4b305a72"
      },
      "source": [
        "#input height and base from user and calculate area of triangle\n",
        "height = eval(input(\"enter height of a triangle = \"))\n",
        "base = eval(input(\"enter base of a triangle = \"))\n",
        "area_of_triangle = 0.5 * height * base\n",
        "print(\"Area of triangle is =\",area_of_triangle)"
      ],
      "execution_count": null,
      "outputs": [
        {
          "output_type": "stream",
          "text": [
            "enter height of a triangle = 4\n",
            "enter base of a triangle = 2\n",
            "Area of triangle is = 4.0\n"
          ],
          "name": "stdout"
        }
      ]
    },
    {
      "cell_type": "markdown",
      "metadata": {
        "id": "Vmr-AudDPRfl"
      },
      "source": [
        "# **Q4.\tWrite a Python program to swap two variables?**"
      ]
    },
    {
      "cell_type": "code",
      "metadata": {
        "colab": {
          "base_uri": "https://localhost:8080/"
        },
        "id": "X3Nu3TrRCt_z",
        "outputId": "3a7b7085-ce0f-45a9-e992-d464f61f6c3d"
      },
      "source": [
        "#Input two values\n",
        "x=input(\"enter value of x = \")\n",
        "y=input(\"enter value of y = \")\n",
        "print(\"values before swapping : x={} and y={}\".format(x,y))\n",
        "#temporary variable for swapping\n",
        "temp=x\n",
        "x=y\n",
        "y=temp\n",
        "print(\"values after swapping  : x={} and y={}\".format(x,y))"
      ],
      "execution_count": null,
      "outputs": [
        {
          "output_type": "stream",
          "text": [
            "enter value of x = 12\n",
            "enter value of y = 36\n",
            "values before swapping : x=12 and y=36\n",
            "values after swapping  : x=36 and y=12\n"
          ],
          "name": "stdout"
        }
      ]
    },
    {
      "cell_type": "markdown",
      "metadata": {
        "id": "ZzlSvXHoS3_G"
      },
      "source": [
        "# **Q5.\tWrite a Python program to generate a random number?**"
      ]
    },
    {
      "cell_type": "code",
      "metadata": {
        "colab": {
          "background_save": true,
          "base_uri": "https://localhost:8080/"
        },
        "id": "NYX_W9L-SY6J",
        "outputId": "c7781763-66d7-4fa5-c998-b45005df0767"
      },
      "source": [
        "import random\n",
        "num=random.random()\n",
        "print(num)"
      ],
      "execution_count": null,
      "outputs": [
        {
          "output_type": "stream",
          "text": [
            "0.6596294124001719\n"
          ],
          "name": "stdout"
        }
      ]
    },
    {
      "cell_type": "markdown",
      "metadata": {
        "id": "E2gh0yFba1VB"
      },
      "source": [
        "# **or**"
      ]
    },
    {
      "cell_type": "code",
      "metadata": {
        "id": "Hy4FCzY_VGeZ",
        "colab": {
          "base_uri": "https://localhost:8080/"
        },
        "outputId": "5e7d1d59-910b-4cf4-871d-05f4b45e4995"
      },
      "source": [
        "import random\n",
        "num1=random.randint(10,50)\n",
        "print(num1)"
      ],
      "execution_count": null,
      "outputs": [
        {
          "output_type": "stream",
          "text": [
            "24\n"
          ],
          "name": "stdout"
        }
      ]
    }
  ]
}
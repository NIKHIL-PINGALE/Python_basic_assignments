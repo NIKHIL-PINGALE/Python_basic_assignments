{
  "nbformat": 4,
  "nbformat_minor": 0,
  "metadata": {
    "colab": {
      "name": "Programming Assignment_9.ipynb",
      "provenance": [],
      "collapsed_sections": [],
      "authorship_tag": "ABX9TyPT4hUJQ6Aajra3UYNl94od",
      "include_colab_link": true
    },
    "kernelspec": {
      "name": "python3",
      "display_name": "Python 3"
    },
    "language_info": {
      "name": "python"
    }
  },
  "cells": [
    {
      "cell_type": "markdown",
      "metadata": {
        "id": "view-in-github",
        "colab_type": "text"
      },
      "source": [
        "<a href=\"https://colab.research.google.com/github/NIKHIL-PINGALE/Python_basic_assignments/blob/main/Programming_Assignment_9.ipynb\" target=\"_parent\"><img src=\"https://colab.research.google.com/assets/colab-badge.svg\" alt=\"Open In Colab\"/></a>"
      ]
    },
    {
      "cell_type": "code",
      "metadata": {
        "id": "AjcKgwCdBiU3"
      },
      "source": [
        "1. Write a Python program to check if the given number is a Disarium Number?\n",
        "2. Write a Python program to print all disarium numbers between 1 to 100?\n",
        "3. Write a Python program to check if the given number is Happy Number?\n",
        "4. Write a Python program to print all happy numbers between 1 and 100?\n",
        "5. Write a Python program to determine whether the given number is a Harshad Number?\n",
        "6. Write a Python program to print all pronic numbers between 1 and 100?"
      ],
      "execution_count": null,
      "outputs": []
    },
    {
      "cell_type": "markdown",
      "metadata": {
        "id": "D1qyDOKRB6ea"
      },
      "source": [
        "# 1. Write a Python program to check if the given number is a Disarium Number?"
      ]
    },
    {
      "cell_type": "code",
      "metadata": {
        "id": "S3ijdDrrCAIP",
        "colab": {
          "base_uri": "https://localhost:8080/"
        },
        "outputId": "7caf3d77-8f6a-43df-8ad3-d67454e70f00"
      },
      "source": [
        "# input number from user\n",
        "num = input(\"enter your number : \")\n",
        "# counting how many digits in the given number\n",
        "pos = len(num)\n",
        "# type conversion of number from string to integer\n",
        "num=int(num)\n",
        "sum=0\n",
        "temp=num\n",
        "# while loop to check given number is disarium or not\n",
        "while pos>0:\n",
        "    r=temp%10\n",
        "    temp//=10\n",
        "    sum+= r**pos\n",
        "    pos -=1\n",
        "\n",
        "if sum == num :\n",
        "    print(num,\"is a disarium number\")\n",
        "else:\n",
        "    print(num,\"is NOT a disarium number\")\n",
        "\n",
        "\n"
      ],
      "execution_count": null,
      "outputs": [
        {
          "output_type": "stream",
          "name": "stdout",
          "text": [
            "enter your number : 135\n",
            "135 is a disarium number\n"
          ]
        }
      ]
    },
    {
      "cell_type": "markdown",
      "metadata": {
        "id": "-04XxYcHZBtr"
      },
      "source": [
        "# 2. Write a Python program to print all disarium numbers between 1 to 100?\n"
      ]
    },
    {
      "cell_type": "code",
      "metadata": {
        "colab": {
          "base_uri": "https://localhost:8080/"
        },
        "id": "f7ONVO87BsWh",
        "outputId": "0bfb6b68-d78b-4106-8670-b0b14560ea99"
      },
      "source": [
        "# for loop to iterate from 1 to 100\n",
        "for num in range(1,101):\n",
        "    sum=0\n",
        "    temp=num\n",
        "    pos = len(str(num))\n",
        "    # while loop to check given number is disarium or not\n",
        "    while pos>0:\n",
        "        r=temp%10\n",
        "        temp//=10\n",
        "        sum+= r**pos\n",
        "        pos -=1\n",
        "    if sum == num :\n",
        "        print(num,end='  ') \n",
        "\n"
      ],
      "execution_count": 36,
      "outputs": [
        {
          "output_type": "stream",
          "name": "stdout",
          "text": [
            "1  2  3  4  5  6  7  8  9  89  "
          ]
        }
      ]
    },
    {
      "cell_type": "markdown",
      "metadata": {
        "id": "ILZcQCtWdYNU"
      },
      "source": [
        "## 3. Write a Python program to check if the given number is Happy Number?"
      ]
    },
    {
      "cell_type": "code",
      "metadata": {
        "id": "Lv_CDhkacKLm",
        "colab": {
          "base_uri": "https://localhost:8080/"
        },
        "outputId": "b33ecfa5-6100-4bda-815d-703f6ce9e729"
      },
      "source": [
        "# defining a function which return sum of squares of digits\n",
        "def isHappyNum(num):\n",
        "    r=sum=0\n",
        "    while num > 0:\n",
        "        r = num % 10\n",
        "        sum += r**2\n",
        "        num //= 10\n",
        "    return sum\n",
        "# input integer number from user\n",
        "num = int(input(\"enter your number : \"))\n",
        "\n",
        "temp = num\n",
        "# while loop to call isHappyNum() function until the sum becomes 1 or 4\n",
        "while (temp != 1 and temp != 4):\n",
        "    temp = isHappyNum(temp)\n",
        "\n",
        "# conditions to check whether the final sum is 1 or 4\n",
        "if temp == 1 :\n",
        "    print(num,'is a Happy number')          \n",
        "elif temp == 4 :\n",
        "    print(num,'is a NOT Happy number')"
      ],
      "execution_count": 18,
      "outputs": [
        {
          "output_type": "stream",
          "name": "stdout",
          "text": [
            "enter your number : 82\n",
            "82 is a Happy number\n"
          ]
        }
      ]
    },
    {
      "cell_type": "markdown",
      "metadata": {
        "id": "UxvdsbCAwLzY"
      },
      "source": [
        "## 4. Write a Python program to print all happy numbers between 1 and 100?"
      ]
    },
    {
      "cell_type": "code",
      "metadata": {
        "colab": {
          "base_uri": "https://localhost:8080/"
        },
        "id": "_IKU6562uD0R",
        "outputId": "71c31882-0e33-4053-d7fd-b2fd8b790178"
      },
      "source": [
        "# defining a function which return sum of squares of digits\n",
        "def isHappyNum(num):\n",
        "    r=sum=0\n",
        "    while num > 0:\n",
        "        r = num % 10\n",
        "        sum += r**2\n",
        "        num //= 10\n",
        "    return sum\n",
        "\n",
        "# for loop to iterate from 1 to 100\n",
        "for num in range(1,101):\n",
        "    temp=num\n",
        "    while (temp != 1 and temp != 4):\n",
        "        temp = isHappyNum(temp)\n",
        "\n",
        "    # conditions to check whether the final sum is 1 or 4\n",
        "    if temp == 1 :\n",
        "        print(num,end='  ')          \n",
        "       \n",
        "\n",
        "\n"
      ],
      "execution_count": 35,
      "outputs": [
        {
          "output_type": "stream",
          "name": "stdout",
          "text": [
            "1  7  10  13  19  23  28  31  32  44  49  68  70  79  82  86  91  94  97  100  "
          ]
        }
      ]
    },
    {
      "cell_type": "markdown",
      "metadata": {
        "id": "On_LsowQ6La2"
      },
      "source": [
        "#5. Write a Python program to determine whether the given number is a Harshad Number?\n"
      ]
    },
    {
      "cell_type": "code",
      "metadata": {
        "colab": {
          "base_uri": "https://localhost:8080/"
        },
        "id": "41iujQXPxp1C",
        "outputId": "60697271-d5f0-4ee8-e611-8291e0ae1449"
      },
      "source": [
        "# defining a function rshad\n",
        "def isHarshad(num) :\n",
        "    sum=r=0\n",
        "    while num > 0:\n",
        "        r = num % 10\n",
        "        sum += r\n",
        "        num //= 10\n",
        "    return sum    \n",
        "# take integer input from user\n",
        "num = int(input(\"enter your number : \"))    \n",
        "temp = num\n",
        "result = isHarshad(num)\n",
        "# conditions to check whether number is harshad or not\n",
        "if temp % result == 0:\n",
        "    print(num,'is harshad number')\n",
        "else:\n",
        "    print(num,'is NOT a harshad number')    "
      ],
      "execution_count": 30,
      "outputs": [
        {
          "output_type": "stream",
          "name": "stdout",
          "text": [
            "enter your number : 58\n",
            "58 is NOT a harshad number\n"
          ]
        }
      ]
    },
    {
      "cell_type": "markdown",
      "metadata": {
        "id": "OV_GDpri_-wy"
      },
      "source": [
        "## 6. Write a Python program to print all pronic numbers between 1 and 100?"
      ]
    },
    {
      "cell_type": "code",
      "metadata": {
        "colab": {
          "base_uri": "https://localhost:8080/"
        },
        "id": "sW-GXGBj-9sg",
        "outputId": "772c2449-0744-477d-e15a-7aef1ae19ebe"
      },
      "source": [
        "# defining a function to determine pronic number\n",
        "def isPronic(num):\n",
        "    temp = False\n",
        "    for i in range(1,num+1):\n",
        "        if i*(i+1) == num:\n",
        "            temp = True\n",
        "            break\n",
        "    return temp\n",
        "\n",
        "# for loop to iterate from 1 to 100\n",
        "for n in range(1,101):\n",
        "    if isPronic(n):\n",
        "        print(n, end='  ')            \n",
        "\n"
      ],
      "execution_count": 34,
      "outputs": [
        {
          "output_type": "stream",
          "name": "stdout",
          "text": [
            "2  6  12  20  30  42  56  72  90  "
          ]
        }
      ]
    },
    {
      "cell_type": "code",
      "metadata": {
        "id": "KXYzSRWnLcnE"
      },
      "source": [
        ""
      ],
      "execution_count": null,
      "outputs": []
    }
  ]
}
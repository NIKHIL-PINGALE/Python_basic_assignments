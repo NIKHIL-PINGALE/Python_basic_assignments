{
  "nbformat": 4,
  "nbformat_minor": 0,
  "metadata": {
    "colab": {
      "name": "Programming Assignment_11.ipynb",
      "provenance": [],
      "authorship_tag": "ABX9TyOjLIsMIUtKTU7cf/npAkqQ",
      "include_colab_link": true
    },
    "kernelspec": {
      "display_name": "Python 3",
      "name": "python3"
    },
    "language_info": {
      "name": "python"
    }
  },
  "cells": [
    {
      "cell_type": "markdown",
      "metadata": {
        "id": "view-in-github",
        "colab_type": "text"
      },
      "source": [
        "<a href=\"https://colab.research.google.com/github/NIKHIL-PINGALE/Python_basic_assignments/blob/main/Programming_Assignment_11.ipynb\" target=\"_parent\"><img src=\"https://colab.research.google.com/assets/colab-badge.svg\" alt=\"Open In Colab\"/></a>"
      ]
    },
    {
      "cell_type": "markdown",
      "metadata": {
        "id": "jaB0-UfgmduJ"
      },
      "source": [
        "1. Write a Python program to find words which are greater than given length k?\n",
        "2. Write a Python program for removing i-th character from a string?\n",
        "3. Write a Python program to split and join a string?\n",
        "4. Write a Python to check if a given string is binary string or not?\n",
        "5. Write a Python program to find uncommon words from two Strings?\n",
        "6. Write a Python to find all duplicate characters in string?\n",
        "7. Write a Python Program to check if a string contains any special character?"
      ]
    },
    {
      "cell_type": "markdown",
      "metadata": {
        "id": "yE6U8D80mgFB"
      },
      "source": [
        "## 1. Write a Python program to find words which are greater than given length k?"
      ]
    },
    {
      "cell_type": "code",
      "metadata": {
        "colab": {
          "base_uri": "https://localhost:8080/"
        },
        "id": "mnpCsI-ZmUQw",
        "outputId": "76f22e20-a047-4ac2-85f8-5bf3880f0cb8"
      },
      "source": [
        "my_string = 'Proud to be a part of ineuron intelligence team'\n",
        "my_string_split=my_string.split(' ')\n",
        "str_list=[]\n",
        "k=int(input('enter length : '))\n",
        "for word in my_string_split:\n",
        "    if len(word) > k:\n",
        "        str_list.append(word)\n",
        "\n",
        "print(\"words which are greater than given length k\",str_list)        "
      ],
      "execution_count": null,
      "outputs": [
        {
          "name": "stdout",
          "output_type": "stream",
          "text": [
            "enter length : 3\n",
            "words which are greater than given length k ['Proud', 'part', 'ineuron', 'intelligence', 'team']\n"
          ]
        }
      ]
    },
    {
      "cell_type": "markdown",
      "metadata": {
        "id": "-L1zlK4TszRj"
      },
      "source": [
        "# 2.Write a Python program for removing i-th character from a string?"
      ]
    },
    {
      "cell_type": "code",
      "metadata": {
        "colab": {
          "base_uri": "https://localhost:8080/"
        },
        "id": "HaU9Et-gsLGw",
        "outputId": "e4cfa358-1e55-4e24-98c6-8b6c54766e60"
      },
      "source": [
        "my_string = 'Proud to be a part of ineuron intelligence team'\n",
        "i=int(input('enter number of character : '))\n",
        "print(\"original string :\\n\",my_string)\n",
        "my_string = my_string.replace(my_string[i],'',1)\n",
        "print(\"after removing i-th character from string :\\n\",my_string)\n"
      ],
      "execution_count": null,
      "outputs": [
        {
          "name": "stdout",
          "output_type": "stream",
          "text": [
            "enter number of character : 1\n",
            "original string :\n",
            " Proud to be a part of ineuron intelligence team\n",
            "after removing i-th character from string :\n",
            " Poud to be a part of ineuron intelligence team\n"
          ]
        }
      ]
    },
    {
      "cell_type": "markdown",
      "metadata": {
        "id": "rbHpLklR1HXz"
      },
      "source": [
        "# 3. Write a Python program to split and join a string?"
      ]
    },
    {
      "cell_type": "code",
      "metadata": {
        "colab": {
          "background_save": true
        },
        "id": "iVoMpbwNuEKV",
        "outputId": "561699c5-57d8-4a7f-988e-a0d4fffc8481"
      },
      "source": [
        "my_string = \"Proud to be a part of ineuron intelligence team\"\n",
        "print(\"original string :\\n\",my_string)\n",
        "string_list = my_string.split(' ')\n",
        "print('string after spliting :\\n',string_list)\n",
        "new_string = '_'.join(string_list)\n",
        "print('string after join :\\n',new_string)\n"
      ],
      "execution_count": null,
      "outputs": [
        {
          "name": "stdout",
          "output_type": "stream",
          "text": [
            "original string :\n",
            " Proud to be a part of ineuron intelligence team\n",
            "string after spliting :\n",
            " ['Proud', 'to', 'be', 'a', 'part', 'of', 'ineuron', 'intelligence', 'team']\n",
            "string after join :\n",
            " Proud_to_be_a_part_of_ineuron_intelligence_team\n"
          ]
        }
      ]
    },
    {
      "cell_type": "markdown",
      "metadata": {
        "id": "46qrWQDxT-bY"
      },
      "source": [
        "# 4. Write a Python to check if a given string is binary string or not?\n"
      ]
    },
    {
      "cell_type": "code",
      "metadata": {
        "id": "4PS6AViEX3tf",
        "colab": {
          "base_uri": "https://localhost:8080/"
        },
        "outputId": "4a63e451-57bd-426c-8ec6-97cd2f3f3b93"
      },
      "source": [
        "my_string = \"a001010101110010101111\"\n",
        "set_string = set(my_string) \n",
        "s = {'0','1'}\n",
        "if s==set_string or set_string=='0' or set_string=='1':\n",
        "    print(\"given string is binary string\")\n",
        "else:\n",
        "    print(\"given string is NOT a binary string\")    "
      ],
      "execution_count": null,
      "outputs": [
        {
          "output_type": "stream",
          "name": "stdout",
          "text": [
            "given string is NOT a binary string\n"
          ]
        }
      ]
    },
    {
      "cell_type": "markdown",
      "metadata": {
        "id": "TFyY1DfzbSqk"
      },
      "source": [
        "# 5.Write a Python program to find uncommon words from two Strings?"
      ]
    },
    {
      "cell_type": "code",
      "metadata": {
        "id": "WuoGHT-yVrNc",
        "colab": {
          "base_uri": "https://localhost:8080/"
        },
        "outputId": "e8525aa4-114a-4f7d-e78e-cf462c11bfaf"
      },
      "source": [
        "# first string \n",
        "str1 = \"proud to be a part of ineuron\"\n",
        "# second string\n",
        "str2 = \"proud to be a student of ineuron intelligence pvt ltd\"\n",
        "# new string to store all uncommon words from both string\n",
        "new_str = \"\"\n",
        "# string converted into list for iterating\n",
        "list_str1 = str1.split(\" \")\n",
        "list_str2 = str2.split(\" \")\n",
        "# for loop to iterate through string\n",
        "for word in list_str1:\n",
        "    if word not in list_str2:\n",
        "        new_str = new_str + \" \" + word\n",
        "\n",
        "for word in list_str2:\n",
        "    if word not in list_str1:\n",
        "        new_str = new_str + \" \" + word \n",
        "print(\"str1 :\",str1)\n",
        "print(\"str2 :\",str2)\n",
        "print(\"string with uncommon words in str1 and str2 is : \\n\",new_str)               \n"
      ],
      "execution_count": null,
      "outputs": [
        {
          "output_type": "stream",
          "name": "stdout",
          "text": [
            "str1 : proud to be a part of ineuron\n",
            "str2 : proud to be a student of ineuron intelligence pvt ltd\n",
            "string with uncommon words in str1 and str2 is : \n",
            "  part student intelligence pvt ltd\n"
          ]
        }
      ]
    },
    {
      "cell_type": "markdown",
      "metadata": {
        "id": "jw5AVE2jhLmb"
      },
      "source": [
        "## 6. Write a Python to find all duplicate characters in string?\n"
      ]
    },
    {
      "cell_type": "code",
      "metadata": {
        "colab": {
          "base_uri": "https://localhost:8080/"
        },
        "id": "ROee23Njg_uh",
        "outputId": "1630a08b-3790-48b7-db75-805fb3e32424"
      },
      "source": [
        "str1 = \"proud to be a part of ineuron\"\n",
        "# to store duplicate characters\n",
        "duplicate =[]\n",
        "\n",
        "for char in str1:\n",
        "    if char == \" \":\n",
        "        continue\n",
        "    elif str1.count(char) > 1:\n",
        "        if char not in duplicate:\n",
        "            duplicate.append(char)\n",
        "\n",
        "print(\"all duplicate characters in string :\",duplicate)            \n"
      ],
      "execution_count": null,
      "outputs": [
        {
          "output_type": "stream",
          "name": "stdout",
          "text": [
            "all duplicate characters in string : ['p', 'r', 'o', 'u', 't', 'e', 'a', 'n']\n"
          ]
        }
      ]
    },
    {
      "cell_type": "markdown",
      "metadata": {
        "id": "pKzMt-SPjhGD"
      },
      "source": [
        "# 7. Write a Python Program to check if a string contains any special character?"
      ]
    },
    {
      "cell_type": "code",
      "metadata": {
        "colab": {
          "base_uri": "https://localhost:8080/"
        },
        "id": "U_NvUW59i9CK",
        "outputId": "2db8474f-2f7d-4aff-ca8d-bdc45184362e"
      },
      "source": [
        "# all special character\n",
        "special_char = '''!()-[]{};:'\"\\,<>./?@#$%^&*_~'''\n",
        "# string\n",
        "str1 = '''proud $ to be % a part ? of \"ineuron\"'''\n",
        "\n",
        "for char in list(str1):\n",
        "    if char in list(special_char):\n",
        "        print(\"string contains special character\")\n",
        "        break\n",
        "else:\n",
        "    print(\"string does not contains special character\")    \n"
      ],
      "execution_count": null,
      "outputs": [
        {
          "output_type": "stream",
          "name": "stdout",
          "text": [
            "string contains special character\n"
          ]
        }
      ]
    },
    {
      "cell_type": "code",
      "metadata": {
        "id": "o5ms_dzZlirI"
      },
      "source": [
        ""
      ],
      "execution_count": null,
      "outputs": []
    }
  ]
}
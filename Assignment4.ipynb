{
  "nbformat": 4,
  "nbformat_minor": 0,
  "metadata": {
    "colab": {
      "name": "Assignment4.ipynb",
      "provenance": [],
      "collapsed_sections": [],
      "authorship_tag": "ABX9TyMPZ8YFmnnkOW4LoAK1mmPJ",
      "include_colab_link": true
    },
    "kernelspec": {
      "name": "python3",
      "display_name": "Python 3"
    },
    "language_info": {
      "name": "python"
    }
  },
  "cells": [
    {
      "cell_type": "markdown",
      "metadata": {
        "id": "view-in-github",
        "colab_type": "text"
      },
      "source": [
        "<a href=\"https://colab.research.google.com/github/NIKHIL-PINGALE/Python_basic_assignments/blob/main/Assignment4.ipynb\" target=\"_parent\"><img src=\"https://colab.research.google.com/assets/colab-badge.svg\" alt=\"Open In Colab\"/></a>"
      ]
    },
    {
      "cell_type": "markdown",
      "metadata": {
        "id": "wKtkbPXeGXlr"
      },
      "source": [
        "# **Q1. Write a Python Program to Find the Factorial of a Number?**"
      ]
    },
    {
      "cell_type": "code",
      "metadata": {
        "colab": {
          "base_uri": "https://localhost:8080/"
        },
        "id": "2ZN_hxz-GBEv",
        "outputId": "dade9e3f-2b67-4d5c-bb0f-75006e2d749a"
      },
      "source": [
        "num=int(input(\"Enter your number = \"))\n",
        "fact=1\n",
        "if num < 0:\n",
        "    print(\"Factorial does not exist for negative numbers\")\n",
        "elif num == 0:\n",
        "    print(\"Factorial of zero is equal to 1\")\n",
        "else:\n",
        "    for i in range(1,num+1):\n",
        "        fact*=i\n",
        "    print(\"Factorial of\",num,\"is =\",fact)    \n",
        "\n"
      ],
      "execution_count": 21,
      "outputs": [
        {
          "output_type": "stream",
          "text": [
            "Enter your number = -54\n",
            "Factorial does not exist for negative numbers\n"
          ],
          "name": "stdout"
        }
      ]
    },
    {
      "cell_type": "markdown",
      "metadata": {
        "id": "3ZIFSDDlHmGZ"
      },
      "source": [
        "# **Q2. Write a Python Program to Display the multiplication Table?**"
      ]
    },
    {
      "cell_type": "code",
      "metadata": {
        "colab": {
          "base_uri": "https://localhost:8080/"
        },
        "id": "FxoyTc42HrH9",
        "outputId": "6e7bfed1-97a7-4f24-f839-b33f05a2d4cc"
      },
      "source": [
        "num=int(input(\"enter your number = \"))\n",
        "print(\"Table of\",num,\"is : \")\n",
        "for i in range(1,11):\n",
        "    print(num,\"x\",i,\"=\",i*num)"
      ],
      "execution_count": 25,
      "outputs": [
        {
          "output_type": "stream",
          "text": [
            "enter your number = 9\n",
            "Table of 9 is : \n",
            "9 x 1 = 9\n",
            "9 x 2 = 18\n",
            "9 x 3 = 27\n",
            "9 x 4 = 36\n",
            "9 x 5 = 45\n",
            "9 x 6 = 54\n",
            "9 x 7 = 63\n",
            "9 x 8 = 72\n",
            "9 x 9 = 81\n",
            "9 x 10 = 90\n"
          ],
          "name": "stdout"
        }
      ]
    },
    {
      "cell_type": "markdown",
      "metadata": {
        "id": "kjfR_rk6JSCN"
      },
      "source": [
        "# **Q3. Write a Python Program to Print the Fibonacci sequence?**"
      ]
    },
    {
      "cell_type": "code",
      "metadata": {
        "colab": {
          "base_uri": "https://localhost:8080/"
        },
        "id": "SJEeu3F9YUD5",
        "outputId": "fda781a4-1a2b-4346-a399-8c7756d0fd12"
      },
      "source": [
        "a,b=0,1\n",
        "temp=0\n",
        "num=int(input(\"enter terms = \"))\n",
        "if num<=0:\n",
        "    print(\"PLZ enter positive number\")\n",
        "else:\n",
        "    while temp < num:\n",
        "        print(a)\n",
        "        c=a+b\n",
        "        a=b\n",
        "        b=c\n",
        "        temp+=1\n"
      ],
      "execution_count": 49,
      "outputs": [
        {
          "output_type": "stream",
          "text": [
            "enter terms = 7\n",
            "0\n",
            "1\n",
            "1\n",
            "2\n",
            "3\n",
            "5\n",
            "8\n"
          ],
          "name": "stdout"
        }
      ]
    },
    {
      "cell_type": "markdown",
      "metadata": {
        "id": "u8EItn0Rc3Ek"
      },
      "source": [
        "# **Q4. Write a Python Program to Check Armstrong Number?**"
      ]
    },
    {
      "cell_type": "code",
      "metadata": {
        "colab": {
          "base_uri": "https://localhost:8080/"
        },
        "id": "slbJjiOMcW32",
        "outputId": "7dc7b1a9-ee5b-4e91-f2fb-fa37b24f83bb"
      },
      "source": [
        "num=int(input(\"enter number = \"))\n",
        "sum=0\n",
        "temp=num\n",
        "\n",
        "while temp > 0 :\n",
        "    r = temp % 10\n",
        "    sum = sum + r**3\n",
        "    temp=temp//10\n",
        "   \n",
        "\n",
        "if num == sum :\n",
        "    print(num,\"is ARMSTRONG NUMBER\")\n",
        "else:\n",
        "    print(num,\"is NOT armstrong number\")\n"
      ],
      "execution_count": 61,
      "outputs": [
        {
          "output_type": "stream",
          "text": [
            "enter number = 153\n",
            "153 is ARMSTRONG NUMBER\n"
          ],
          "name": "stdout"
        }
      ]
    },
    {
      "cell_type": "markdown",
      "metadata": {
        "id": "TVweyPipmFHC"
      },
      "source": [
        "# **Q5. Write a Python Program to Find Armstrong Number in an Interval?**"
      ]
    },
    {
      "cell_type": "code",
      "metadata": {
        "colab": {
          "base_uri": "https://localhost:8080/"
        },
        "id": "9WMHE9N_mU-t",
        "outputId": "23204a62-5f33-4757-c83e-c439b0f503f4"
      },
      "source": [
        "lower=int(input(\"enter lower limit number = \"))\n",
        "upper=int(input(\"enter upper limit number = \"))\n",
        "for num in range(lower,upper+1):\n",
        "    sum=0\n",
        "    temp=num\n",
        "    while temp > 0 :\n",
        "        r = temp % 10\n",
        "        sum += r**3\n",
        "        temp //= 10\n",
        "    if num == sum :\n",
        "        print(num,\"is ARMSTRONG NUMBER\")\n",
        "    \n",
        "\n"
      ],
      "execution_count": 69,
      "outputs": [
        {
          "output_type": "stream",
          "text": [
            "enter lower limit number = 1\n",
            "enter upper limit number = 999\n",
            "1 is ARMSTRONG NUMBER\n",
            "153 is ARMSTRONG NUMBER\n",
            "370 is ARMSTRONG NUMBER\n",
            "371 is ARMSTRONG NUMBER\n",
            "407 is ARMSTRONG NUMBER\n"
          ],
          "name": "stdout"
        }
      ]
    },
    {
      "cell_type": "markdown",
      "metadata": {
        "id": "VlD8VRSooNTx"
      },
      "source": [
        "# **Q6. Write a Python Program to Find the Sum of Natural Numbers?**"
      ]
    },
    {
      "cell_type": "code",
      "metadata": {
        "colab": {
          "base_uri": "https://localhost:8080/"
        },
        "id": "CIBlqO0hoSXJ",
        "outputId": "05922de2-eb76-41a4-e87f-8211cb70cb8d"
      },
      "source": [
        "num=int(input(\"enter your number = \"))\n",
        "sum=0\n",
        "for i in range(1,num+1):\n",
        "    sum += i\n",
        "print(\"Sum of first\",num,\"Natural Numbers is =\",sum)    "
      ],
      "execution_count": 72,
      "outputs": [
        {
          "output_type": "stream",
          "text": [
            "enter your number = 123\n",
            "Sum of first 123 Natural Numbers is = 7626\n"
          ],
          "name": "stdout"
        }
      ]
    }
  ]
}
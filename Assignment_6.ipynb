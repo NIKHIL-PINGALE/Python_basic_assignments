{
  "nbformat": 4,
  "nbformat_minor": 0,
  "metadata": {
    "colab": {
      "name": "Assignment_6.ipynb",
      "provenance": [],
      "authorship_tag": "ABX9TyNbbNsXz+8AMFocoe1cmYt9",
      "include_colab_link": true
    },
    "kernelspec": {
      "name": "python3",
      "display_name": "Python 3"
    },
    "language_info": {
      "name": "python"
    }
  },
  "cells": [
    {
      "cell_type": "markdown",
      "metadata": {
        "id": "view-in-github",
        "colab_type": "text"
      },
      "source": [
        "<a href=\"https://colab.research.google.com/github/NIKHIL-PINGALE/Python_basic_assignments/blob/main/Assignment_6.ipynb\" target=\"_parent\"><img src=\"https://colab.research.google.com/assets/colab-badge.svg\" alt=\"Open In Colab\"/></a>"
      ]
    },
    {
      "cell_type": "markdown",
      "metadata": {
        "id": "0u9QjojGVlAJ"
      },
      "source": [
        "1. Write a Python Program to Display Fibonacci Sequence Using Recursion?\n",
        "2. Write a Python Program to Find Factorial of Number Using Recursion?\n",
        "3. Write a Python Program to calculate your Body Mass Index?\n",
        "4. Write a Python Program to calculate the natural logarithm of any number?\n",
        "5. Write a Python Program for cube sum of first n natural numbers?"
      ]
    },
    {
      "cell_type": "markdown",
      "metadata": {
        "id": "_jaKnX5LVtaX"
      },
      "source": [
        "# 1. Write a Python Program to Display Fibonacci Sequence Using Recursion?\n",
        "\n"
      ]
    },
    {
      "cell_type": "code",
      "metadata": {
        "colab": {
          "base_uri": "https://localhost:8080/"
        },
        "id": "8E2V4foHVyQ3",
        "outputId": "598896c7-5a22-41b1-f357-f8eadb957892"
      },
      "source": [
        "def fibofun(num):\n",
        "    if num==0 or num==1:\n",
        "        return num\n",
        "    else:\n",
        "        return (fibofun(num-1) + fibofun(num-2))    \n",
        "\n",
        "terms=int(input(\"Enter number of terms : \"))\n",
        "# check if the number of terms is valid\n",
        "if terms <=0 :\n",
        "    print(\"plz enter positive number\")\n",
        "else:\n",
        "    print(\"Fibonacci sequence:\")\n",
        "    for i in range(terms):\n",
        "        print(fibofun(i))    "
      ],
      "execution_count": null,
      "outputs": [
        {
          "output_type": "stream",
          "name": "stdout",
          "text": [
            "Enter number of terms : 10\n",
            "Fibonacci sequence:\n",
            "0\n",
            "1\n",
            "1\n",
            "2\n",
            "3\n",
            "5\n",
            "8\n",
            "13\n",
            "21\n",
            "34\n"
          ]
        }
      ]
    },
    {
      "cell_type": "markdown",
      "metadata": {
        "id": "CiY05kbqXCpo"
      },
      "source": [
        "# 2. Write a Python Program to Find Factorial of Number Using Recursion?"
      ]
    },
    {
      "cell_type": "code",
      "metadata": {
        "colab": {
          "base_uri": "https://localhost:8080/"
        },
        "id": "MyepER42WmgN",
        "outputId": "1d066db7-104d-4c55-b48a-4309ddf30fca"
      },
      "source": [
        "def factfun(n):\n",
        "    if n==1:\n",
        "        return 1\n",
        "    else: \n",
        "        return n * factfun(n-1)    \n",
        "\n",
        "num=int(input(\"enter your number : \")) \n",
        "#check if the number(num) is negative\n",
        "if num < 0:\n",
        "   print(\"Sorry, factorial does not exist for negative numbers\")\n",
        "elif num == 0:\n",
        "   print(\"The factorial of 0 is 1\")\n",
        "else:\n",
        "   print(\"The factorial of\", num, \"is\", factfun(num))\n"
      ],
      "execution_count": null,
      "outputs": [
        {
          "output_type": "stream",
          "name": "stdout",
          "text": [
            "enter your number : 5\n",
            "The factorial of 5 is 120\n"
          ]
        }
      ]
    },
    {
      "cell_type": "markdown",
      "metadata": {
        "id": "sIajrllJYsUh"
      },
      "source": [
        "# 3. Write a Python Program to calculate your Body Mass Index?"
      ]
    },
    {
      "cell_type": "code",
      "metadata": {
        "colab": {
          "base_uri": "https://localhost:8080/"
        },
        "id": "BdXgxjrYYoGN",
        "outputId": "eb7b2c89-9302-49f4-8aef-53d40dfea15a"
      },
      "source": [
        "def bmifun(weight,height):\n",
        "    bmi=weight/(height**2)\n",
        "    return bmi\n",
        "\n",
        "weight=float(input(\"enter your weight in kg : \"))\n",
        "height=float(input(\"enter your height in meter : \"))    \n",
        "bmi = bmifun(weight,height)\n",
        "print(\"Your Body Mass Index is :\",bmi)\n",
        "\n",
        "#BMI category\n",
        "if (bmi < 18.5):\n",
        "    print(\"you are underweight\")\n",
        " \n",
        "elif ( bmi >= 18.5 and bmi < 24.9):\n",
        "    print(\"you are Healthy\")\n",
        " \n",
        "elif ( bmi >= 24.9 and bmi < 30):\n",
        "    print(\"you are overweight\")\n",
        " \n",
        "elif ( bmi >=30):\n",
        "    print(\"you are Suffering from Obesity\")"
      ],
      "execution_count": null,
      "outputs": [
        {
          "output_type": "stream",
          "name": "stdout",
          "text": [
            "enter your weight in kg : 70\n",
            "enter your height in meter : 1.7\n",
            "Your Body Mass Index is : 24.221453287197235\n",
            "you are Healthy\n"
          ]
        }
      ]
    },
    {
      "cell_type": "markdown",
      "metadata": {
        "id": "C2PbMQi0kL9S"
      },
      "source": [
        "# 4. Write a Python Program to calculate the natural logarithm of any number?"
      ]
    },
    {
      "cell_type": "code",
      "metadata": {
        "colab": {
          "base_uri": "https://localhost:8080/"
        },
        "id": "9RQAvgILidae",
        "outputId": "3249f58d-3cbe-423c-d57c-c172ad8e30ba"
      },
      "source": [
        "import math\n",
        "def log_fun(num):\n",
        "    return math.log(num)\n",
        "\n",
        "num=eval(input(\"enter your number : \"))\n",
        "print(\"natural logarith of {} is :{}\".format(num,log_fun(num)))"
      ],
      "execution_count": null,
      "outputs": [
        {
          "output_type": "stream",
          "name": "stdout",
          "text": [
            "enter your number : 14\n",
            "natural logarith of 14 is :2.6390573296152584\n"
          ]
        }
      ]
    },
    {
      "cell_type": "markdown",
      "metadata": {
        "id": "JrYtTv6UkQjZ"
      },
      "source": [
        "# 5. Write a Python Program for cube sum of first n natural numbers?"
      ]
    },
    {
      "cell_type": "code",
      "metadata": {
        "id": "4DakH9TxkVUb"
      },
      "source": [
        "def cubefun(n):\n",
        "    sum=0\n",
        "    for i in range(1,n+1):\n",
        "        sum += (i**3)\n",
        "    return sum\n",
        "\n",
        "num=int(input(\"enter value of n : \"))        \n",
        "print(\"Cube Sum Of First {} Natural Numbers is {}\".format(num,cubefun(num)))"
      ],
      "execution_count": null,
      "outputs": []
    },
    {
      "cell_type": "markdown",
      "metadata": {
        "id": "inXXJWX2kauC"
      },
      "source": [
        "another way"
      ]
    },
    {
      "cell_type": "code",
      "metadata": {
        "id": "7Rqudk0DkdrM"
      },
      "source": [
        "def funcube(num):\n",
        "    sum=(num * (num+1)/2)\n",
        "    return sum**2\n",
        "\n",
        "n=int(input(\"enter value of n : \"))        \n",
        "print(\"Cube Sum Of First {} Natural Numbers is {}\".format(n,funcube(n)))"
      ],
      "execution_count": null,
      "outputs": []
    }
  ]
}
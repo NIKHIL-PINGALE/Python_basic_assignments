{
  "nbformat": 4,
  "nbformat_minor": 0,
  "metadata": {
    "colab": {
      "name": "Programming Assignment_8",
      "provenance": [],
      "collapsed_sections": [],
      "authorship_tag": "ABX9TyMJkNKROQfmvAwD8Z79021T",
      "include_colab_link": true
    },
    "kernelspec": {
      "name": "python3",
      "display_name": "Python 3"
    },
    "language_info": {
      "name": "python"
    }
  },
  "cells": [
    {
      "cell_type": "markdown",
      "metadata": {
        "id": "view-in-github",
        "colab_type": "text"
      },
      "source": [
        "<a href=\"https://colab.research.google.com/github/NIKHIL-PINGALE/Python_basic_assignments/blob/main/Programming_Assignment_8.ipynb\" target=\"_parent\"><img src=\"https://colab.research.google.com/assets/colab-badge.svg\" alt=\"Open In Colab\"/></a>"
      ]
    },
    {
      "cell_type": "markdown",
      "metadata": {
        "id": "rBc1rV8dBOEA"
      },
      "source": [
        "1. Write a Python Program to Add Two Matrices?\n",
        "2. Write a Python Program to Multiply Two Matrices?\n",
        "3. Write a Python Program to Transpose a Matrix?\n",
        "4. Write a Python Program to Sort Words in Alphabetic Order?\n",
        "5. Write a Python Program to Remove Punctuation From a String?"
      ]
    },
    {
      "cell_type": "markdown",
      "metadata": {
        "id": "bN9oNLEsBiYt"
      },
      "source": [
        "# 1. Write a Python Program to Add Two Matrices?"
      ]
    },
    {
      "cell_type": "code",
      "metadata": {
        "colab": {
          "base_uri": "https://localhost:8080/"
        },
        "id": "ZM-MeI6hBawv",
        "outputId": "e71cf35b-e5d8-44df-c728-63e51e6ad27d"
      },
      "source": [
        "# first matrix\n",
        "a = [[1,4,7],\n",
        "     [7,5,8],\n",
        "     [8,6,9]]\n",
        "# second matrix\n",
        "b = [[9,8,7],\n",
        "     [6,5,4],\n",
        "     [3,9,1]]\n",
        "\n",
        "addition=[[0,0,0],\n",
        "          [0,0,0],\n",
        "          [0,0,0]]\n",
        "\n",
        "# nested for loop to add two matrices\n",
        "for i in range(len(a)):\n",
        "    for j in range(len(a[0])):\n",
        "        addition[i][j] = a[i][j] + b[i][j]\n",
        "# addition\n",
        "for x in addition:\n",
        "    print(x)"
      ],
      "execution_count": null,
      "outputs": [
        {
          "output_type": "stream",
          "name": "stdout",
          "text": [
            "[10, 12, 14]\n",
            "[13, 10, 12]\n",
            "[11, 15, 10]\n"
          ]
        }
      ]
    },
    {
      "cell_type": "markdown",
      "metadata": {
        "id": "JFU7k0ucNAWi"
      },
      "source": [
        "another way\n"
      ]
    },
    {
      "cell_type": "code",
      "metadata": {
        "colab": {
          "base_uri": "https://localhost:8080/"
        },
        "id": "k-k3l4vGC_lT",
        "outputId": "d1aaa893-d05b-472f-fa47-bbb19a89c7a5"
      },
      "source": [
        "rows = int(input(\"enter no of rows : \"))\n",
        "cols = int(input(\"enter no of columns : \"))\n",
        "first=[]\n",
        "# inputs for first matrix using nested for loop\n",
        "for i in range(rows):\n",
        "    temp=[]\n",
        "    for j in range(cols):\n",
        "        temp.append(int(input('input for first matrix : ')))\n",
        "    first.append(temp)    \n",
        "\n",
        "second=[]\n",
        "# inputs for second matrix using list comprehension\n",
        "second = [[int(input('input for second matrix : '))  for j in range(cols)]   for i in range(rows)]\n",
        "\n",
        "add = [[0  for j in range(cols)]   for i in range(rows)]\n",
        "# adding two matrices\n",
        "for i in range(rows):\n",
        "    for j in range(cols):\n",
        "        add[i][j] = first[i][j] + second[i][j]\n",
        "\n",
        "\n",
        "\n",
        "# display first matrix\n",
        "print('first matrix : ')\n",
        "for x in first:\n",
        "    print(x)     \n",
        "# display second matrix\n",
        "print('second matrix : ')    \n",
        "for y in second:\n",
        "    print(y)    \n",
        "# addition of first and second matrix\n",
        "print('addition of first and second matrix : ')\n",
        "for a in add:\n",
        "    print(a)    \n"
      ],
      "execution_count": null,
      "outputs": [
        {
          "output_type": "stream",
          "name": "stdout",
          "text": [
            "enter no of rows : 4\n",
            "enter no of columns : 4\n",
            "input for first matrix : 1\n",
            "input for first matrix : 1\n",
            "input for first matrix : 1\n",
            "input for first matrix : 1\n",
            "input for first matrix : 2\n",
            "input for first matrix : 2\n",
            "input for first matrix : 2\n",
            "input for first matrix : 2\n",
            "input for first matrix : 3\n",
            "input for first matrix : 3\n",
            "input for first matrix : 3\n",
            "input for first matrix : 3\n",
            "input for first matrix : 4\n",
            "input for first matrix : 4\n",
            "input for first matrix : 4\n",
            "input for first matrix : 4\n",
            "input for second matrix : 3\n",
            "input for second matrix : 3\n",
            "input for second matrix : 3\n",
            "input for second matrix : 3\n",
            "input for second matrix : 2\n",
            "input for second matrix : 2\n",
            "input for second matrix : 2\n",
            "input for second matrix : 2\n",
            "input for second matrix : 1\n",
            "input for second matrix : 1\n",
            "input for second matrix : 1\n",
            "input for second matrix : 1\n",
            "input for second matrix : 5\n",
            "input for second matrix : 5\n",
            "input for second matrix : 5\n",
            "input for second matrix : 5\n",
            "first matrix : \n",
            "[1, 1, 1, 1]\n",
            "[2, 2, 2, 2]\n",
            "[3, 3, 3, 3]\n",
            "[4, 4, 4, 4]\n",
            "second matrix : \n",
            "[3, 3, 3, 3]\n",
            "[2, 2, 2, 2]\n",
            "[1, 1, 1, 1]\n",
            "[5, 5, 5, 5]\n",
            "addition of first and second matrix : \n",
            "[4, 4, 4, 4]\n",
            "[4, 4, 4, 4]\n",
            "[4, 4, 4, 4]\n",
            "[9, 9, 9, 9]\n"
          ]
        }
      ]
    },
    {
      "cell_type": "markdown",
      "metadata": {
        "id": "dF-j0YtdNRU6"
      },
      "source": [
        "# 2.Write a Python Program to Multiply Two Matrices?"
      ]
    },
    {
      "cell_type": "code",
      "metadata": {
        "colab": {
          "base_uri": "https://localhost:8080/"
        },
        "id": "68H0MyRVTjo7",
        "outputId": "06374bb5-028d-4cf0-8f36-24241d066d6c"
      },
      "source": [
        "# first matrix\n",
        "first = [[1, 2, 3],\n",
        "         [9, 5, 6],\n",
        "         [4, 8, 0]]\n",
        "# second matrix\n",
        "second = [[3, 7, 8, 2],\n",
        "          [6, 5, 3, 0],\n",
        "          [4, 3, 6, 1]]\n",
        "\n",
        "mul=[[0,0,0,0],\n",
        "     [0,0,0,0],\n",
        "     [0,0,0,0]]\n",
        "\n",
        "# multiplication of two matrices\n",
        "  # iterating through rows of first matrix \n",
        "for i in range(len(first)):  \n",
        "    # iterating trough columns of second matrix   \n",
        "    for j in range(len(second[0])):\n",
        "        # iterating through rows of second matrix\n",
        "        for k in range(len(b)):\n",
        "            mul[i][j] += first[i][k] * second[k][j]\n",
        "\n",
        "print(\"multiplication of first and second matrix is : \")           \n",
        "for m in mul:\n",
        "    print(m)"
      ],
      "execution_count": 40,
      "outputs": [
        {
          "output_type": "stream",
          "name": "stdout",
          "text": [
            "multiplication of first and second matrix is : \n",
            "[27, 26, 32, 5]\n",
            "[81, 106, 123, 24]\n",
            "[60, 68, 56, 8]\n"
          ]
        }
      ]
    },
    {
      "cell_type": "markdown",
      "metadata": {
        "id": "kQdv9CYLWMle"
      },
      "source": [
        "another way\n"
      ]
    },
    {
      "cell_type": "code",
      "metadata": {
        "id": "LD6ZiNoLLf0x",
        "colab": {
          "base_uri": "https://localhost:8080/"
        },
        "outputId": "f9dc1e1e-b54f-49fe-a18a-cd3cc73bc10b"
      },
      "source": [
        "rows_first = int(input(\"enter no of rows for first matrix : \"))\n",
        "cols_first = int(input(\"enter no of columns for first matrix : \"))\n",
        "first=[]\n",
        "# inputs for first matrix using nested for loop\n",
        "for i in range(rows_first):\n",
        "    temp=[]\n",
        "    for j in range(cols_first):\n",
        "        temp.append(int(input('input for first matrix : ')))\n",
        "    first.append(temp)    \n",
        "\n",
        "rows_second = cols_first\n",
        "cols_second = int(input(\"enter no of columns for second matrix : \"))\n",
        "\n",
        "second=[]\n",
        "# inputs for second matrix using list comprehension\n",
        "second = [[int(input('input for second matrix : '))  for j in range(cols_second)]   for i in range(rows_second)]\n",
        "\n",
        "multi=[[0 for j in range(cols_second)] for i in range(rows_first)]\n",
        "\n",
        "# multiplication operation\n",
        "  #for loop to iterating through rows of first matrix\n",
        "for i in range(rows_first):\n",
        "    # for loop to iterating through colums of second matrix\n",
        "    for j in range(cols_second):\n",
        "        # for loop to iterating through rows of second matrix\n",
        "        for k in range(rows_second):\n",
        "            multi[i][j] += first[i][k] * second[k][j]\n",
        "\n",
        "\n",
        "print('first matrix : ')\n",
        "for f in first:\n",
        "    print(f)\n",
        "\n",
        "print(\"second matrix : \")\n",
        "for s in second:\n",
        "    print(s)    \n",
        "\n",
        "print(\"multiplication of first and second matrix is : \")\n",
        "for m in multi:\n",
        "    print(m)    "
      ],
      "execution_count": 1,
      "outputs": [
        {
          "output_type": "stream",
          "name": "stdout",
          "text": [
            "enter no of rows for first matrix : 3\n",
            "enter no of columns for first matrix : 3\n",
            "input for first matrix : 1\n",
            "input for first matrix : 2\n",
            "input for first matrix : 3\n",
            "input for first matrix : 4\n",
            "input for first matrix : 5\n",
            "input for first matrix : 6\n",
            "input for first matrix : 7\n",
            "input for first matrix : 8\n",
            "input for first matrix : 9\n",
            "enter no of columns for second matrix : 4\n",
            "input for second matrix : 1\n",
            "input for second matrix : 2\n",
            "input for second matrix : 3\n",
            "input for second matrix : 4\n",
            "input for second matrix : 4\n",
            "input for second matrix : 5\n",
            "input for second matrix : 6\n",
            "input for second matrix : 7\n",
            "input for second matrix : 1\n",
            "input for second matrix : 5\n",
            "input for second matrix : 9\n",
            "input for second matrix : 3\n",
            "first matrix : \n",
            "[1, 2, 3]\n",
            "[4, 5, 6]\n",
            "[7, 8, 9]\n",
            "second matrix : \n",
            "[1, 2, 3, 4]\n",
            "[4, 5, 6, 7]\n",
            "[1, 5, 9, 3]\n",
            "multiplication of first and second matrix is : \n",
            "[12, 27, 42, 27]\n",
            "[30, 63, 96, 69]\n",
            "[48, 99, 150, 111]\n"
          ]
        }
      ]
    },
    {
      "cell_type": "markdown",
      "metadata": {
        "id": "wQOjO54ptxKl"
      },
      "source": [
        "## 3. Write a Python Program to Transpose a Matrix?"
      ]
    },
    {
      "cell_type": "code",
      "metadata": {
        "colab": {
          "base_uri": "https://localhost:8080/"
        },
        "id": "t1C9ILemtySD",
        "outputId": "d9958cab-d9b2-4170-cdac-b16f81103351"
      },
      "source": [
        "mat = [[1,2],\n",
        "       [3,4],\n",
        "       [5,6]]\n",
        "\n",
        "Tmat = [[0,0,0],\n",
        "        [0,0,0]]\n",
        "\n",
        "for i in range(len(mat)):\n",
        "    for j in range(len(mat[0])):\n",
        "        Tmat[j][i] = mat[i][j]\n",
        "\n",
        "for t in Tmat:\n",
        "    print(t)                "
      ],
      "execution_count": 2,
      "outputs": [
        {
          "output_type": "stream",
          "name": "stdout",
          "text": [
            "[1, 3, 5]\n",
            "[2, 4, 6]\n"
          ]
        }
      ]
    },
    {
      "cell_type": "markdown",
      "metadata": {
        "id": "0Z-i93QyvmzV"
      },
      "source": [
        "another way"
      ]
    },
    {
      "cell_type": "code",
      "metadata": {
        "colab": {
          "base_uri": "https://localhost:8080/"
        },
        "id": "rg-OEja2vPTk",
        "outputId": "070a3c0c-9603-46da-e687-9a303df78ede"
      },
      "source": [
        "mat_rows = int(input(\"enter number of rows : \"))\n",
        "mat_cols = int(input(\"enter number of columns : \"))\n",
        "\n",
        "# input matrix element from user\n",
        "mat = [[(int(input())) for j in range(mat_cols)] for i in range(mat_rows)]\n",
        "\n",
        "Tmat=[[0 for j in range(mat_rows)]for i in range(mat_cols)]\n",
        "\n",
        "# matrix before transpose\n",
        "print('matrix before transpose : ')\n",
        "for m in mat:\n",
        "    print(m)\n",
        "\n",
        "# nested for loop to transpose matrix\n",
        "for i in range(mat_rows):\n",
        "    for j in range(mat_cols):\n",
        "        Tmat[j][i] = mat[i][j]\n",
        "\n",
        "print('matrix after transpose : ')\n",
        "for t in Tmat:\n",
        "    print(t)        "
      ],
      "execution_count": 3,
      "outputs": [
        {
          "output_type": "stream",
          "name": "stdout",
          "text": [
            "enter number of rows : 4\n",
            "enter number of columns : 3\n",
            "1\n",
            "1\n",
            "1\n",
            "2\n",
            "2\n",
            "2\n",
            "3\n",
            "3\n",
            "3\n",
            "4\n",
            "4\n",
            "4\n",
            "matrix before transpose : \n",
            "[1, 1, 1]\n",
            "[2, 2, 2]\n",
            "[3, 3, 3]\n",
            "[4, 4, 4]\n",
            "matrix after transpose : \n",
            "[1, 2, 3, 4]\n",
            "[1, 2, 3, 4]\n",
            "[1, 2, 3, 4]\n"
          ]
        }
      ]
    },
    {
      "cell_type": "markdown",
      "metadata": {
        "id": "x63AQvGG2f-1"
      },
      "source": [
        "## 4.Write a Python Program to Sort Words in Alphabetic Order?"
      ]
    },
    {
      "cell_type": "code",
      "metadata": {
        "colab": {
          "base_uri": "https://localhost:8080/"
        },
        "id": "xxkdtzwcyH4b",
        "outputId": "c9db67a7-cf37-4d13-83e8-02aea685f109"
      },
      "source": [
        "# take string input from user\n",
        "my_string = input(\"enter your full name : \")\n",
        "# breakdown string into list of words\n",
        "words_list = [words.lower() for words in my_string.split()]\n",
        "\n",
        "# using sort method\n",
        "words_list.sort()\n",
        "\n",
        "print('after sorting : ')\n",
        "for w in words_list:\n",
        "    print(w,end=' ')"
      ],
      "execution_count": 44,
      "outputs": [
        {
          "output_type": "stream",
          "name": "stdout",
          "text": [
            "enter your full name : my name is nikhil purushottam pingale\n",
            "after sorting : \n",
            "is my name nikhil pingale purushottam "
          ]
        }
      ]
    },
    {
      "cell_type": "markdown",
      "metadata": {
        "id": "z5doKSM-6Wcc"
      },
      "source": [
        "## 5.Write a Python Program to Remove Punctuation From a String?"
      ]
    },
    {
      "cell_type": "code",
      "metadata": {
        "colab": {
          "base_uri": "https://localhost:8080/"
        },
        "id": "nkRz0BVw6YES",
        "outputId": "564d4c2d-2c7c-4b14-8ca0-4ed4aee6c478"
      },
      "source": [
        "# define punctuation\n",
        "punctuations = '''!()-[]{};:'\"\\,<>./?@#$%^&*_~'''\n",
        "\n",
        "# take string as input from user\n",
        "my_string = input('enter string with some punctuation marks')\n",
        "\n",
        "# define new blank string\n",
        "new_string=''\n",
        "\n",
        "# remove punctuation\n",
        "for c in my_string.lower():\n",
        "    if c not in punctuations:\n",
        "        new_string += c\n",
        "\n",
        "# display new string after removing punctuation\n",
        "print(new_string)\n"
      ],
      "execution_count": 6,
      "outputs": [
        {
          "output_type": "stream",
          "name": "stdout",
          "text": [
            "enter string with some punctuation marks#my !@name%& is*\" nikhil#$ pingale\"!!??\n",
            "my name is nikhil pingale\n"
          ]
        }
      ]
    }
  ]
}
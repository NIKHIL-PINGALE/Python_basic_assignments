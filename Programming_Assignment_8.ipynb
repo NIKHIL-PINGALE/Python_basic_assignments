{
  "nbformat": 4,
  "nbformat_minor": 0,
  "metadata": {
    "colab": {
      "name": "Programming Assignment_8",
      "provenance": [],
      "collapsed_sections": [],
      "authorship_tag": "ABX9TyMJkNKROQfmvAwD8Z79021T",
      "include_colab_link": true
    },
    "kernelspec": {
      "name": "python3",
      "display_name": "Python 3"
    },
    "language_info": {
      "name": "python"
    }
  },
  "cells": [
    {
      "cell_type": "markdown",
      "metadata": {
        "id": "view-in-github",
        "colab_type": "text"
      },
      "source": [
        "<a href=\"https://colab.research.google.com/github/NIKHIL-PINGALE/Python_basic_assignments/blob/main/Programming_Assignment_8.ipynb\" target=\"_parent\"><img src=\"https://colab.research.google.com/assets/colab-badge.svg\" alt=\"Open In Colab\"/></a>"
      ]
    },
    {
      "cell_type": "markdown",
      "metadata": {
        "id": "rBc1rV8dBOEA"
      },
      "source": [
        "1. Write a Python Program to Add Two Matrices?\n",
        "2. Write a Python Program to Multiply Two Matrices?\n",
        "3. Write a Python Program to Transpose a Matrix?\n",
        "4. Write a Python Program to Sort Words in Alphabetic Order?\n",
        "5. Write a Python Program to Remove Punctuation From a String?"
      ]
    },
    {
      "cell_type": "markdown",
      "metadata": {
        "id": "bN9oNLEsBiYt"
      },
      "source": [
        "# 1. Write a Python Program to Add Two Matrices?"
      ]
    },
    {
      "cell_type": "code",
      "metadata": {
        "colab": {
          "base_uri": "https://localhost:8080/"
        },
        "id": "ZM-MeI6hBawv",
        "outputId": "e71cf35b-e5d8-44df-c728-63e51e6ad27d"
      },
      "source": [
        "# first matrix\n",
        "a = [[1,4,7],\n",
        "     [7,5,8],\n",
        "     [8,6,9]]\n",
        "# second matrix\n",
        "b = [[9,8,7],\n",
        "     [6,5,4],\n",
        "     [3,9,1]]\n",
        "\n",
        "addition=[[0,0,0],\n",
        "          [0,0,0],\n",
        "          [0,0,0]]\n",
        "\n",
        "# nested for loop to add two matrices\n",
        "for i in range(len(a)):\n",
        "    for j in range(len(a[0])):\n",
        "        addition[i][j] = a[i][j] + b[i][j]\n",
        "# addition\n",
        "for x in addition:\n",
        "    print(x)"
      ],
      "execution_count": null,
      "outputs": [
        {
          "output_type": "stream",
          "name": "stdout",
          "text": [
            "[10, 12, 14]\n",
            "[13, 10, 12]\n",
            "[11, 15, 10]\n"
          ]
        }
      ]
    },
    {
      "cell_type": "markdown",
      "metadata": {
        "id": "JFU7k0ucNAWi"
      },
      "source": [
        "another way\n"
      ]
    },
    {
      "cell_type": "code",
      "metadata": {
        "colab": {
          "base_uri": "https://localhost:8080/"
        },
        "id": "k-k3l4vGC_lT",
        "outputId": "d1aaa893-d05b-472f-fa47-bbb19a89c7a5"
      },
      "source": [
        "rows = int(input(\"enter no of rows : \"))\n",
        "cols = int(input(\"enter no of columns : \"))\n",
        "first=[]\n",
        "# inputs for first matrix using nested for loop\n",
        "for i in range(rows):\n",
        "    temp=[]\n",
        "    for j in range(cols):\n",
        "        temp.append(int(input('input for first matrix : ')))\n",
        "    first.append(temp)    \n",
        "\n",
        "second=[]\n",
        "# inputs for second matrix using list comprehension\n",
        "second = [[int(input('input for second matrix : '))  for j in range(cols)]   for i in range(rows)]\n",
        "\n",
        "add = [[0  for j in range(cols)]   for i in range(rows)]\n",
        "# adding two matrices\n",
        "for i in range(rows):\n",
        "    for j in range(cols):\n",
        "        add[i][j] = first[i][j] + second[i][j]\n",
        "\n",
        "\n",
        "\n",
        "# display first matrix\n",
        "print('first matrix : ')\n",
        "for x in first:\n",
        "    print(x)     \n",
        "# display second matrix\n",
        "print('second matrix : ')    \n",
        "for y in second:\n",
        "    print(y)    \n",
        "# addition of first and second matrix\n",
        "print('addition of first and second matrix : ')\n",
        "for a in add:\n",
        "    print(a)    \n"
      ],
      "execution_count": null,
      "outputs": [
        {
          "output_type": "stream",
          "name": "stdout",
          "text": [
            "enter no of rows : 4\n",
            "enter no of columns : 4\n",
            "input for first matrix : 1\n",
            "input for first matrix : 1\n",
            "input for first matrix : 1\n",
            "input for first matrix : 1\n",
            "input for first matrix : 2\n",
            "input for first matrix : 2\n",
            "input for first matrix : 2\n",
            "input for first matrix : 2\n",
            "input for first matrix : 3\n",
            "input for first matrix : 3\n",
            "input for first matrix : 3\n",
            "input for first matrix : 3\n",
            "input for first matrix : 4\n",
            "input for first matrix : 4\n",
            "input for first matrix : 4\n",
            "input for first matrix : 4\n",
            "input for second matrix : 3\n",
            "input for second matrix : 3\n",
            "input for second matrix : 3\n",
            "input for second matrix : 3\n",
            "input for second matrix : 2\n",
            "input for second matrix : 2\n",
            "input for second matrix : 2\n",
            "input for second matrix : 2\n",
            "input for second matrix : 1\n",
            "input for second matrix : 1\n",
            "input for second matrix : 1\n",
            "input for second matrix : 1\n",
            "input for second matrix : 5\n",
            "input for second matrix : 5\n",
            "input for second matrix : 5\n",
            "input for second matrix : 5\n",
            "first matrix : \n",
            "[1, 1, 1, 1]\n",
            "[2, 2, 2, 2]\n",
            "[3, 3, 3, 3]\n",
            "[4, 4, 4, 4]\n",
            "second matrix : \n",
            "[3, 3, 3, 3]\n",
            "[2, 2, 2, 2]\n",
            "[1, 1, 1, 1]\n",
            "[5, 5, 5, 5]\n",
            "addition of first and second matrix : \n",
            "[4, 4, 4, 4]\n",
            "[4, 4, 4, 4]\n",
            "[4, 4, 4, 4]\n",
            "[9, 9, 9, 9]\n"
          ]
        }
      ]
    },
    {
      "cell_type": "markdown",
      "metadata": {
        "id": "dF-j0YtdNRU6"
      },
      "source": [
        "# 2.Write a Python Program to Multiply Two Matrices?"
      ]
    },
    {
      "cell_type": "code",
      "metadata": {
        "colab": {
          "base_uri": "https://localhost:8080/"
        },
        "id": "68H0MyRVTjo7",
        "outputId": "06374bb5-028d-4cf0-8f36-24241d066d6c"
      },
      "source": [
        "# first matrix\n",
        "first = [[1, 2, 3],\n",
        "         [9, 5, 6],\n",
        "         [4, 8, 0]]\n",
        "# second matrix\n",
        "second = [[3, 7, 8, 2],\n",
        "          [6, 5, 3, 0],\n",
        "          [4, 3, 6, 1]]\n",
        "\n",
        "mul=[[0,0,0,0],\n",
        "     [0,0,0,0],\n",
        "     [0,0,0,0]]\n",
        "\n",
        "# multiplication of two matrices\n",
        "  # iterating through rows of first matrix \n",
        "for i in range(len(first)):  \n",
        "    # iterating trough columns of second matrix   \n",
        "    for j in range(len(second[0])):\n",
        "        # iterating through rows of second matrix\n",
        "        for k in range(len(b)):\n",
        "            mul[i][j] += first[i][k] * second[k][j]\n",
        "\n",
        "print(\"multiplication of first and second matrix is : \")           \n",
        "for m in mul:\n",
        "    print(m)"
      ],
      "execution_count": 40,
      "outputs": [
        {
          "output_type": "stream",
          "name": "stdout",
          "text": [
            "multiplication of first and second matrix is : \n",
            "[27, 26, 32, 5]\n",
            "[81, 106, 123, 24]\n",
            "[60, 68, 56, 8]\n"
          ]
        }
      ]
    },
    {
      "cell_type": "markdown",
      "metadata": {
        "id": "kQdv9CYLWMle"
      },
      "source": [
        "another way\n"
      ]
    },
    {
      "cell_type": "code",
      "metadata": {
        "id": "LD6ZiNoLLf0x",
        "colab": {
          "base_uri": "https://localhost:8080/",
          "height": 536
        },
        "outputId": "8655ba56-df69-4d17-ae25-074b7c345e42"
      },
      "source": [
        "rows_first = int(input(\"enter no of rows for first matrix : \"))\n",
        "cols_first = int(input(\"enter no of columns for first matrix : \"))\n",
        "first=[]\n",
        "# inputs for first matrix using nested for loop\n",
        "for i in range(rows_first):\n",
        "    temp=[]\n",
        "    for j in range(cols_first):\n",
        "        temp.append(int(input('input for first matrix : ')))\n",
        "    first.append(temp)    \n",
        "\n",
        "rows_second = cols_first\n",
        "cols_second = int(input(\"enter no of columns for second matrix : \"))\n",
        "\n",
        "second=[]\n",
        "# inputs for second matrix using list comprehension\n",
        "second = [[int(input('input for second matrix : '))  for j in range(cols_second)]   for i in range(rows_second)]\n",
        "\n",
        "multi=[[0 for j in range(cols_second)] for i in range(rows_first)]\n",
        "\n",
        "# multiplication operation\n",
        "  #for loop to iterating through rows of first matrix\n",
        "for i in range(rows_first):\n",
        "    # for loop to iterating through colums of second matrix\n",
        "    for j in range(cols_second):\n",
        "        # for loop to iterating through rows of second matrix\n",
        "        for k in range(rows_second):\n",
        "            multi[i][j] += first[i][k] * second[k][j]\n",
        "\n",
        "\n",
        "print('first matrix : ')\n",
        "for f in first:\n",
        "    print(f)\n",
        "\n",
        "print(\"second matrix : \")\n",
        "for s in second:\n",
        "    print(s)    \n",
        "\n",
        "print(\"multiplication of first and second matrix is : \")\n",
        "for m in multi:\n",
        "    print(m)    "
      ],
      "execution_count": 42,
      "outputs": [
        {
          "output_type": "error",
          "ename": "KeyboardInterrupt",
          "evalue": "ignored",
          "traceback": [
            "\u001b[0;31m---------------------------------------------------------------------------\u001b[0m",
            "\u001b[0;31mKeyboardInterrupt\u001b[0m                         Traceback (most recent call last)",
            "\u001b[0;32m/usr/local/lib/python3.7/dist-packages/ipykernel/kernelbase.py\u001b[0m in \u001b[0;36m_input_request\u001b[0;34m(self, prompt, ident, parent, password)\u001b[0m\n\u001b[1;32m    728\u001b[0m             \u001b[0;32mtry\u001b[0m\u001b[0;34m:\u001b[0m\u001b[0;34m\u001b[0m\u001b[0;34m\u001b[0m\u001b[0m\n\u001b[0;32m--> 729\u001b[0;31m                 \u001b[0mident\u001b[0m\u001b[0;34m,\u001b[0m \u001b[0mreply\u001b[0m \u001b[0;34m=\u001b[0m \u001b[0mself\u001b[0m\u001b[0;34m.\u001b[0m\u001b[0msession\u001b[0m\u001b[0;34m.\u001b[0m\u001b[0mrecv\u001b[0m\u001b[0;34m(\u001b[0m\u001b[0mself\u001b[0m\u001b[0;34m.\u001b[0m\u001b[0mstdin_socket\u001b[0m\u001b[0;34m,\u001b[0m \u001b[0;36m0\u001b[0m\u001b[0;34m)\u001b[0m\u001b[0;34m\u001b[0m\u001b[0;34m\u001b[0m\u001b[0m\n\u001b[0m\u001b[1;32m    730\u001b[0m             \u001b[0;32mexcept\u001b[0m \u001b[0mException\u001b[0m\u001b[0;34m:\u001b[0m\u001b[0;34m\u001b[0m\u001b[0;34m\u001b[0m\u001b[0m\n",
            "\u001b[0;32m/usr/local/lib/python3.7/dist-packages/jupyter_client/session.py\u001b[0m in \u001b[0;36mrecv\u001b[0;34m(self, socket, mode, content, copy)\u001b[0m\n\u001b[1;32m    802\u001b[0m         \u001b[0;32mtry\u001b[0m\u001b[0;34m:\u001b[0m\u001b[0;34m\u001b[0m\u001b[0;34m\u001b[0m\u001b[0m\n\u001b[0;32m--> 803\u001b[0;31m             \u001b[0mmsg_list\u001b[0m \u001b[0;34m=\u001b[0m \u001b[0msocket\u001b[0m\u001b[0;34m.\u001b[0m\u001b[0mrecv_multipart\u001b[0m\u001b[0;34m(\u001b[0m\u001b[0mmode\u001b[0m\u001b[0;34m,\u001b[0m \u001b[0mcopy\u001b[0m\u001b[0;34m=\u001b[0m\u001b[0mcopy\u001b[0m\u001b[0;34m)\u001b[0m\u001b[0;34m\u001b[0m\u001b[0;34m\u001b[0m\u001b[0m\n\u001b[0m\u001b[1;32m    804\u001b[0m         \u001b[0;32mexcept\u001b[0m \u001b[0mzmq\u001b[0m\u001b[0;34m.\u001b[0m\u001b[0mZMQError\u001b[0m \u001b[0;32mas\u001b[0m \u001b[0me\u001b[0m\u001b[0;34m:\u001b[0m\u001b[0;34m\u001b[0m\u001b[0;34m\u001b[0m\u001b[0m\n",
            "\u001b[0;32m/usr/local/lib/python3.7/dist-packages/zmq/sugar/socket.py\u001b[0m in \u001b[0;36mrecv_multipart\u001b[0;34m(self, flags, copy, track)\u001b[0m\n\u001b[1;32m    624\u001b[0m         \"\"\"\n\u001b[0;32m--> 625\u001b[0;31m         \u001b[0mparts\u001b[0m \u001b[0;34m=\u001b[0m \u001b[0;34m[\u001b[0m\u001b[0mself\u001b[0m\u001b[0;34m.\u001b[0m\u001b[0mrecv\u001b[0m\u001b[0;34m(\u001b[0m\u001b[0mflags\u001b[0m\u001b[0;34m,\u001b[0m \u001b[0mcopy\u001b[0m\u001b[0;34m=\u001b[0m\u001b[0mcopy\u001b[0m\u001b[0;34m,\u001b[0m \u001b[0mtrack\u001b[0m\u001b[0;34m=\u001b[0m\u001b[0mtrack\u001b[0m\u001b[0;34m)\u001b[0m\u001b[0;34m]\u001b[0m\u001b[0;34m\u001b[0m\u001b[0;34m\u001b[0m\u001b[0m\n\u001b[0m\u001b[1;32m    626\u001b[0m         \u001b[0;31m# have first part already, only loop while more to receive\u001b[0m\u001b[0;34m\u001b[0m\u001b[0;34m\u001b[0m\u001b[0;34m\u001b[0m\u001b[0m\n",
            "\u001b[0;32mzmq/backend/cython/socket.pyx\u001b[0m in \u001b[0;36mzmq.backend.cython.socket.Socket.recv\u001b[0;34m()\u001b[0m\n",
            "\u001b[0;32mzmq/backend/cython/socket.pyx\u001b[0m in \u001b[0;36mzmq.backend.cython.socket.Socket.recv\u001b[0;34m()\u001b[0m\n",
            "\u001b[0;32mzmq/backend/cython/socket.pyx\u001b[0m in \u001b[0;36mzmq.backend.cython.socket._recv_copy\u001b[0;34m()\u001b[0m\n",
            "\u001b[0;32m/usr/local/lib/python3.7/dist-packages/zmq/backend/cython/checkrc.pxd\u001b[0m in \u001b[0;36mzmq.backend.cython.checkrc._check_rc\u001b[0;34m()\u001b[0m\n",
            "\u001b[0;31mKeyboardInterrupt\u001b[0m: ",
            "\nDuring handling of the above exception, another exception occurred:\n",
            "\u001b[0;31mKeyboardInterrupt\u001b[0m                         Traceback (most recent call last)",
            "\u001b[0;32m<ipython-input-42-375632739505>\u001b[0m in \u001b[0;36m<module>\u001b[0;34m()\u001b[0m\n\u001b[0;32m----> 1\u001b[0;31m \u001b[0mrows_first\u001b[0m \u001b[0;34m=\u001b[0m \u001b[0mint\u001b[0m\u001b[0;34m(\u001b[0m\u001b[0minput\u001b[0m\u001b[0;34m(\u001b[0m\u001b[0;34m\"enter no of rows for first matrix : \"\u001b[0m\u001b[0;34m)\u001b[0m\u001b[0;34m)\u001b[0m\u001b[0;34m\u001b[0m\u001b[0;34m\u001b[0m\u001b[0m\n\u001b[0m\u001b[1;32m      2\u001b[0m \u001b[0mcols_first\u001b[0m \u001b[0;34m=\u001b[0m \u001b[0mint\u001b[0m\u001b[0;34m(\u001b[0m\u001b[0minput\u001b[0m\u001b[0;34m(\u001b[0m\u001b[0;34m\"enter no of columns for first matrix : \"\u001b[0m\u001b[0;34m)\u001b[0m\u001b[0;34m)\u001b[0m\u001b[0;34m\u001b[0m\u001b[0;34m\u001b[0m\u001b[0m\n\u001b[1;32m      3\u001b[0m \u001b[0mfirst\u001b[0m\u001b[0;34m=\u001b[0m\u001b[0;34m[\u001b[0m\u001b[0;34m]\u001b[0m\u001b[0;34m\u001b[0m\u001b[0;34m\u001b[0m\u001b[0m\n\u001b[1;32m      4\u001b[0m \u001b[0;31m# inputs for first matrix using nested for loop\u001b[0m\u001b[0;34m\u001b[0m\u001b[0;34m\u001b[0m\u001b[0;34m\u001b[0m\u001b[0m\n\u001b[1;32m      5\u001b[0m \u001b[0;32mfor\u001b[0m \u001b[0mi\u001b[0m \u001b[0;32min\u001b[0m \u001b[0mrange\u001b[0m\u001b[0;34m(\u001b[0m\u001b[0mrows_first\u001b[0m\u001b[0;34m)\u001b[0m\u001b[0;34m:\u001b[0m\u001b[0;34m\u001b[0m\u001b[0;34m\u001b[0m\u001b[0m\n",
            "\u001b[0;32m/usr/local/lib/python3.7/dist-packages/ipykernel/kernelbase.py\u001b[0m in \u001b[0;36mraw_input\u001b[0;34m(self, prompt)\u001b[0m\n\u001b[1;32m    702\u001b[0m             \u001b[0mself\u001b[0m\u001b[0;34m.\u001b[0m\u001b[0m_parent_ident\u001b[0m\u001b[0;34m,\u001b[0m\u001b[0;34m\u001b[0m\u001b[0;34m\u001b[0m\u001b[0m\n\u001b[1;32m    703\u001b[0m             \u001b[0mself\u001b[0m\u001b[0;34m.\u001b[0m\u001b[0m_parent_header\u001b[0m\u001b[0;34m,\u001b[0m\u001b[0;34m\u001b[0m\u001b[0;34m\u001b[0m\u001b[0m\n\u001b[0;32m--> 704\u001b[0;31m             \u001b[0mpassword\u001b[0m\u001b[0;34m=\u001b[0m\u001b[0;32mFalse\u001b[0m\u001b[0;34m,\u001b[0m\u001b[0;34m\u001b[0m\u001b[0;34m\u001b[0m\u001b[0m\n\u001b[0m\u001b[1;32m    705\u001b[0m         )\n\u001b[1;32m    706\u001b[0m \u001b[0;34m\u001b[0m\u001b[0m\n",
            "\u001b[0;32m/usr/local/lib/python3.7/dist-packages/ipykernel/kernelbase.py\u001b[0m in \u001b[0;36m_input_request\u001b[0;34m(self, prompt, ident, parent, password)\u001b[0m\n\u001b[1;32m    732\u001b[0m             \u001b[0;32mexcept\u001b[0m \u001b[0mKeyboardInterrupt\u001b[0m\u001b[0;34m:\u001b[0m\u001b[0;34m\u001b[0m\u001b[0;34m\u001b[0m\u001b[0m\n\u001b[1;32m    733\u001b[0m                 \u001b[0;31m# re-raise KeyboardInterrupt, to truncate traceback\u001b[0m\u001b[0;34m\u001b[0m\u001b[0;34m\u001b[0m\u001b[0;34m\u001b[0m\u001b[0m\n\u001b[0;32m--> 734\u001b[0;31m                 \u001b[0;32mraise\u001b[0m \u001b[0mKeyboardInterrupt\u001b[0m\u001b[0;34m\u001b[0m\u001b[0;34m\u001b[0m\u001b[0m\n\u001b[0m\u001b[1;32m    735\u001b[0m             \u001b[0;32melse\u001b[0m\u001b[0;34m:\u001b[0m\u001b[0;34m\u001b[0m\u001b[0;34m\u001b[0m\u001b[0m\n\u001b[1;32m    736\u001b[0m                 \u001b[0;32mbreak\u001b[0m\u001b[0;34m\u001b[0m\u001b[0;34m\u001b[0m\u001b[0m\n",
            "\u001b[0;31mKeyboardInterrupt\u001b[0m: "
          ]
        }
      ]
    },
    {
      "cell_type": "markdown",
      "metadata": {
        "id": "wQOjO54ptxKl"
      },
      "source": [
        "## 3. Write a Python Program to Transpose a Matrix?"
      ]
    },
    {
      "cell_type": "code",
      "metadata": {
        "id": "t1C9ILemtySD"
      },
      "source": [
        "mat = [[1,2],\n",
        "       [3,4],\n",
        "       [5,6]]\n",
        "\n",
        "Tmat = [[0,0,0],\n",
        "        [0,0,0]]\n",
        "\n",
        "for i in range(len(mat)):\n",
        "    for j in range(len(mat[0])):\n",
        "        Tmat[j][i] = mat[i][j]\n",
        "\n",
        "for t in Tmat:\n",
        "    print(t)                "
      ],
      "execution_count": null,
      "outputs": []
    },
    {
      "cell_type": "markdown",
      "metadata": {
        "id": "0Z-i93QyvmzV"
      },
      "source": [
        "another way"
      ]
    },
    {
      "cell_type": "code",
      "metadata": {
        "id": "rg-OEja2vPTk"
      },
      "source": [
        "mat_rows = int(input(\"enter number of rows : \"))\n",
        "mat_cols = int(input(\"enter number of columns : \"))\n",
        "\n",
        "# input matrix element from user\n",
        "mat = [[(int(input())) for j in range(mat_cols)] for i in range(mat_rows)]\n",
        "\n",
        "Tmat=[[0 for j in range(mat_rows)]for i in range(mat_cols)]\n",
        "\n",
        "# matrix before transpose\n",
        "print('matrix before transpose : ')\n",
        "for m in mat:\n",
        "    print(m)\n",
        "\n",
        "# nested for loop to transpose matrix\n",
        "for i in range(mat_rows):\n",
        "    for j in range(mat_cols):\n",
        "        Tmat[j][i] = mat[i][j]\n",
        "\n",
        "print('matrix after transpose : ')\n",
        "for t in Tmat:\n",
        "    print(t)        "
      ],
      "execution_count": null,
      "outputs": []
    },
    {
      "cell_type": "markdown",
      "metadata": {
        "id": "x63AQvGG2f-1"
      },
      "source": [
        "## 4.Write a Python Program to Sort Words in Alphabetic Order?"
      ]
    },
    {
      "cell_type": "code",
      "metadata": {
        "colab": {
          "base_uri": "https://localhost:8080/"
        },
        "id": "xxkdtzwcyH4b",
        "outputId": "c9db67a7-cf37-4d13-83e8-02aea685f109"
      },
      "source": [
        "# take string input from user\n",
        "my_string = input(\"enter your full name : \")\n",
        "# breakdown string into list of words\n",
        "words_list = [words.lower() for words in my_string.split()]\n",
        "\n",
        "# using sort method\n",
        "words_list.sort()\n",
        "\n",
        "print('after sorting : ')\n",
        "for w in words_list:\n",
        "    print(w,end=' ')"
      ],
      "execution_count": 44,
      "outputs": [
        {
          "output_type": "stream",
          "name": "stdout",
          "text": [
            "enter your full name : my name is nikhil purushottam pingale\n",
            "after sorting : \n",
            "is my name nikhil pingale purushottam "
          ]
        }
      ]
    },
    {
      "cell_type": "markdown",
      "metadata": {
        "id": "z5doKSM-6Wcc"
      },
      "source": [
        "## 5.Write a Python Program to Remove Punctuation From a String?"
      ]
    },
    {
      "cell_type": "code",
      "metadata": {
        "colab": {
          "base_uri": "https://localhost:8080/"
        },
        "id": "nkRz0BVw6YES",
        "outputId": "5e19135c-3148-4629-ea50-469ed83e365f"
      },
      "source": [
        "# define punctuation\n",
        "punctuations = '''!()-[]{};:'\"\\,<>./?@#$%^&*_~'''\n",
        "\n",
        "# take string as input from user\n",
        "my_string = input('enter string with some punctuation marks')\n",
        "\n",
        "# define new blank string\n",
        "new_string=''\n",
        "\n",
        "# remove punctuation\n",
        "for c in my_string.lower():\n",
        "    if c not in punctuations:\n",
        "        new_string += c\n",
        "\n",
        "# display new string after removing punctuation\n",
        "print(new_string)\n"
      ],
      "execution_count": 45,
      "outputs": [
        {
          "output_type": "stream",
          "name": "stdout",
          "text": [
            "enter string with some punctuation marksmy name $ks $%^ is $%nikhil*&%! pingale\n",
            "my name ks  is nikhil pingale\n"
          ]
        }
      ]
    }
  ]
}
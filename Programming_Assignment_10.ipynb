{
  "nbformat": 4,
  "nbformat_minor": 0,
  "metadata": {
    "colab": {
      "name": "Programming Assignment_10.ipynb",
      "provenance": [],
      "authorship_tag": "ABX9TyOmfOfRMgNSzCk/aGh3U0Ak",
      "include_colab_link": true
    },
    "kernelspec": {
      "name": "python3",
      "display_name": "Python 3"
    },
    "language_info": {
      "name": "python"
    }
  },
  "cells": [
    {
      "cell_type": "markdown",
      "metadata": {
        "id": "view-in-github",
        "colab_type": "text"
      },
      "source": [
        "<a href=\"https://colab.research.google.com/github/NIKHIL-PINGALE/Python_basic_assignments/blob/main/Programming_Assignment_10.ipynb\" target=\"_parent\"><img src=\"https://colab.research.google.com/assets/colab-badge.svg\" alt=\"Open In Colab\"/></a>"
      ]
    },
    {
      "cell_type": "markdown",
      "metadata": {
        "id": "w30Rxsf9TewD"
      },
      "source": [
        "1. Write a Python program to find sum of elements in list?\n",
        "2. Write a Python program to Multiply all numbers in the list?\n",
        "3. Write a Python program to find smallest number in a list?\n",
        "4. Write a Python program to find largest number in a list?\n",
        "5. Write a Python program to find second largest number in a list?\n",
        "6. Write a Python program to find N largest elements from a list?\n",
        "7. Write a Python program to print even numbers in a list?\n",
        "8. Write a Python program to print odd numbers in a List?\n",
        "9. Write a Python program to Remove empty List from List?\n",
        "10. Write a Python program to Cloning or Copying a list?\n",
        "11. Write a Python program to Count occurrences of an element in a list?"
      ]
    },
    {
      "cell_type": "markdown",
      "metadata": {
        "id": "e0s1Fy3ATljo"
      },
      "source": [
        "# 1. Write a Python program to find sum of elements in list?"
      ]
    },
    {
      "cell_type": "code",
      "metadata": {
        "colab": {
          "base_uri": "https://localhost:8080/"
        },
        "id": "Ll7Bu0C3Tkyo",
        "outputId": "3e73a35a-f994-45ea-f908-ab52d6e5a4da"
      },
      "source": [
        "num_list = [2,4,65,7,2,2,4,9,6,7,8,6,4,2,43]\n",
        "# for loop to iterate through elements from given list\n",
        "total=0\n",
        "for i in num_list:\n",
        "    total +=i\n",
        "print('Total sum is =',total)    \n"
      ],
      "execution_count": 7,
      "outputs": [
        {
          "output_type": "stream",
          "name": "stdout",
          "text": [
            "Total sum is = 171\n"
          ]
        }
      ]
    },
    {
      "cell_type": "markdown",
      "metadata": {
        "id": "v141PJ4nW62I"
      },
      "source": [
        "## 2.Write a Python program to Multiply all numbers in the list?"
      ]
    },
    {
      "cell_type": "code",
      "metadata": {
        "colab": {
          "base_uri": "https://localhost:8080/"
        },
        "id": "eA6V1EJ5Wr-F",
        "outputId": "7246a691-0f07-468a-f1fe-70e94c272124"
      },
      "source": [
        "num_list = [2,7,2,4,9,6,7,8,6,4]\n",
        "# for loop to iterate through elements from given list\n",
        "mul=1\n",
        "for i in num_list:\n",
        "    mul *=i\n",
        "print('Total multiplication is =',mul) "
      ],
      "execution_count": 14,
      "outputs": [
        {
          "output_type": "stream",
          "name": "stdout",
          "text": [
            "Total multiplication is = 8128512\n"
          ]
        }
      ]
    },
    {
      "cell_type": "markdown",
      "metadata": {
        "id": "I0y__yurYG3U"
      },
      "source": [
        "## 3.Write a Python program to find smallest number in a list?"
      ]
    },
    {
      "cell_type": "code",
      "metadata": {
        "colab": {
          "base_uri": "https://localhost:8080/"
        },
        "id": "AqgC9xzEXsKR",
        "outputId": "cf68e6e8-60b1-4702-ceb9-e15158b62354"
      },
      "source": [
        "# using for loop\n",
        "num_list = [2,4,65,7,2,2,4,9,6,7,8,6,4,2,43]\n",
        "\n",
        "small = num_list[0]\n",
        "for i in num_list:\n",
        "    if i < small:\n",
        "        small = i\n",
        "print('Smallest number from list is =',small)        "
      ],
      "execution_count": 38,
      "outputs": [
        {
          "output_type": "stream",
          "name": "stdout",
          "text": [
            "Smallest number from list is = 2\n"
          ]
        }
      ]
    },
    {
      "cell_type": "markdown",
      "metadata": {
        "id": "wEjo6-ZfauDr"
      },
      "source": [
        "OR"
      ]
    },
    {
      "cell_type": "code",
      "metadata": {
        "colab": {
          "base_uri": "https://localhost:8080/"
        },
        "id": "pQoCa0D-ZToT",
        "outputId": "35641744-bffd-46b6-a4a5-9d4685e233ef"
      },
      "source": [
        "# using sort method\n",
        "num_list.sort()\n",
        "\n",
        "print('smallest element from given list is =',num_list[0])"
      ],
      "execution_count": 26,
      "outputs": [
        {
          "output_type": "stream",
          "name": "stdout",
          "text": [
            "smallest element from given list is = 2\n"
          ]
        }
      ]
    },
    {
      "cell_type": "markdown",
      "metadata": {
        "id": "Moq0pSb3cYn6"
      },
      "source": [
        "OR"
      ]
    },
    {
      "cell_type": "code",
      "metadata": {
        "colab": {
          "base_uri": "https://localhost:8080/"
        },
        "id": "AVFc8ETWcapg",
        "outputId": "17c05e80-9ea1-464e-b889-451500e54c5a"
      },
      "source": [
        "# using min method\n",
        "\n",
        "print('smallest element from given list is =',min(num_list))"
      ],
      "execution_count": 39,
      "outputs": [
        {
          "output_type": "stream",
          "name": "stdout",
          "text": [
            "smallest element from given list is = 2\n"
          ]
        }
      ]
    },
    {
      "cell_type": "markdown",
      "metadata": {
        "id": "t91SLsNzaxv7"
      },
      "source": [
        "## 4.Write a Python program to find largest number in a list?"
      ]
    },
    {
      "cell_type": "code",
      "metadata": {
        "colab": {
          "base_uri": "https://localhost:8080/"
        },
        "id": "bjj9w5fDa529",
        "outputId": "cda27638-795b-4415-e41b-6a9bb56b796f"
      },
      "source": [
        "# using for loop\n",
        "num_list = [2,4,65,7,2,2,4,9,6,7,8,6,4,2,43]\n",
        "largest = num_list[0]\n",
        "for i in num_list:\n",
        "    if i > largest:\n",
        "        largest = i\n",
        "print('largest number from list is =',largest)"
      ],
      "execution_count": 33,
      "outputs": [
        {
          "output_type": "stream",
          "name": "stdout",
          "text": [
            "largest number from list is = 65\n"
          ]
        }
      ]
    },
    {
      "cell_type": "markdown",
      "metadata": {
        "id": "M_YjIyhGbHiZ"
      },
      "source": [
        "OR"
      ]
    },
    {
      "cell_type": "code",
      "metadata": {
        "colab": {
          "base_uri": "https://localhost:8080/"
        },
        "id": "pF6ePAb0bJUA",
        "outputId": "51f80e3b-70fb-4750-9adf-524c8320aa04"
      },
      "source": [
        "# using sort method\n",
        "num_list.sort()\n",
        "\n",
        "print('Largest element from given list is =',num_list[-1])"
      ],
      "execution_count": 40,
      "outputs": [
        {
          "output_type": "stream",
          "name": "stdout",
          "text": [
            "Largest element from given list is = 65\n"
          ]
        }
      ]
    },
    {
      "cell_type": "markdown",
      "metadata": {
        "id": "tEB5LANTcQ9p"
      },
      "source": [
        "OR"
      ]
    },
    {
      "cell_type": "code",
      "metadata": {
        "colab": {
          "base_uri": "https://localhost:8080/"
        },
        "id": "HxBocOkOcSwd",
        "outputId": "9fd3ffe1-29a2-4d68-eb84-d48f14f22796"
      },
      "source": [
        "# using max method\n",
        "print('Largest element from list',max(num_list))"
      ],
      "execution_count": 41,
      "outputs": [
        {
          "output_type": "stream",
          "name": "stdout",
          "text": [
            "Largest element from list 65\n"
          ]
        }
      ]
    },
    {
      "cell_type": "markdown",
      "metadata": {
        "id": "jIcSjhr_bRiA"
      },
      "source": [
        "# 5.Write a Python program to find second largest number in a list?"
      ]
    },
    {
      "cell_type": "code",
      "metadata": {
        "colab": {
          "base_uri": "https://localhost:8080/"
        },
        "id": "i9Ys7D4CbNBK",
        "outputId": "d6dd6bae-1933-4e81-dd7e-6798e5fb4ba8"
      },
      "source": [
        "# using sort method\n",
        "n=int(input(\"number of element in list : \"))\n",
        "num_list=[]\n",
        "for i in range(n):\n",
        "    num_list.append(int(input('enter element :')))\n",
        "\n",
        "\n",
        "\n",
        "\n",
        "num_list.sort()\n",
        "\n",
        "print('second largest number from given list is =',num_list[-2])"
      ],
      "execution_count": 42,
      "outputs": [
        {
          "output_type": "stream",
          "name": "stdout",
          "text": [
            "number of element in list : 6\n",
            "enter element :45\n",
            "enter element :56\n",
            "enter element :12\n",
            "enter element :23\n",
            "enter element :76\n",
            "enter element :592\n",
            "second largest number from given list is = 76\n"
          ]
        }
      ]
    },
    {
      "cell_type": "markdown",
      "metadata": {
        "id": "s89qjg3Vefj8"
      },
      "source": [
        "# 6.Write a Python program to find N largest elements from a list?"
      ]
    },
    {
      "cell_type": "code",
      "metadata": {
        "colab": {
          "base_uri": "https://localhost:8080/"
        },
        "id": "IEhIYK7ub1nB",
        "outputId": "41229f9e-f73a-4e0b-d3de-9df1ccffdcee"
      },
      "source": [
        "# using sort method\n",
        "n=int(input(\"number of element in list : \"))\n",
        "num_list=[]\n",
        "for i in range(n):\n",
        "    num_list.append(int(input('enter element :')))\n",
        "\n",
        "num_list.sort()\n",
        "\n",
        "pos=int(input('Enter N largest element : '))\n",
        "print(pos,'largest number from given list is =',num_list[-pos])"
      ],
      "execution_count": 44,
      "outputs": [
        {
          "output_type": "stream",
          "name": "stdout",
          "text": [
            "number of element in list : 7\n",
            "enter element :56\n",
            "enter element :21\n",
            "enter element :53\n",
            "enter element :94\n",
            "enter element :46\n",
            "enter element :13\n",
            "enter element :35\n",
            "Enter N largest element : 3\n",
            "3  largest number from given list is = 53\n"
          ]
        }
      ]
    },
    {
      "cell_type": "markdown",
      "metadata": {
        "id": "K0PFIYXwfeIH"
      },
      "source": [
        "## 7.Write a Python program to print even numbers in a list?"
      ]
    },
    {
      "cell_type": "code",
      "metadata": {
        "colab": {
          "base_uri": "https://localhost:8080/"
        },
        "id": "9ivjEDAzfERi",
        "outputId": "5ebfb492-4cdd-4f07-b2bd-362c83cc8b2c"
      },
      "source": [
        "num_list = [2,4,65,7,2,2,4,9,6,7,8,6,4,2,43]\n",
        "print('Even numbers from given list are :')\n",
        "for i in num_list:\n",
        "    if i % 2 == 0:\n",
        "        print(i,end=' ')\n"
      ],
      "execution_count": 45,
      "outputs": [
        {
          "output_type": "stream",
          "name": "stdout",
          "text": [
            "Even numbers from given list are :\n",
            "2 4 2 2 4 6 8 6 4 2 "
          ]
        }
      ]
    },
    {
      "cell_type": "markdown",
      "metadata": {
        "id": "4RHt6MROgE5w"
      },
      "source": [
        "# 8.Write a Python program to print odd numbers in a List?"
      ]
    },
    {
      "cell_type": "code",
      "metadata": {
        "colab": {
          "base_uri": "https://localhost:8080/"
        },
        "id": "g3woaOqggB6Y",
        "outputId": "2a1d333a-8916-4318-d25d-95760ae42aa8"
      },
      "source": [
        "num_list = [2,4,65,7,2,2,4,9,6,7,8,6,4,2,43]\n",
        "print('Odd numbers from given list are :')\n",
        "for i in num_list:\n",
        "    if i % 2 != 0:\n",
        "        print(i,end=' ')\n"
      ],
      "execution_count": 46,
      "outputs": [
        {
          "output_type": "stream",
          "name": "stdout",
          "text": [
            "Odd numbers from given list are :\n",
            "65 7 9 7 43 "
          ]
        }
      ]
    },
    {
      "cell_type": "markdown",
      "metadata": {
        "id": "gUgPceUagQTp"
      },
      "source": [
        "#9. Write a Python program to Remove empty List from List?"
      ]
    },
    {
      "cell_type": "code",
      "metadata": {
        "colab": {
          "base_uri": "https://localhost:8080/"
        },
        "id": "0ms47-a0gOk_",
        "outputId": "2b929532-7259-4ce2-d1ac-74507bd0e64a"
      },
      "source": [
        "num_list = [[],2,4,[65,7],2,2,4,['N','I','K'],9,6,[],7,8,6,[],4,2,43]\n",
        "print('Original list :',num_list)\n",
        "for i in num_list:\n",
        "    if (type(i)==list and len(i)==0):\n",
        "        num_list.remove(i)\n",
        "print('list after removing empty list from list  :',num_list)"
      ],
      "execution_count": 48,
      "outputs": [
        {
          "output_type": "stream",
          "name": "stdout",
          "text": [
            "Original list : [[], 2, 4, [65, 7], 2, 2, 4, ['N', 'I', 'K'], 9, 6, [], 7, 8, 6, [], 4, 2, 43]\n",
            "list after removing empty list from list  : [2, 4, [65, 7], 2, 2, 4, ['N', 'I', 'K'], 9, 6, 7, 8, 6, 4, 2, 43]\n"
          ]
        }
      ]
    },
    {
      "cell_type": "markdown",
      "metadata": {
        "id": "3qFoaDdRiQ-I"
      },
      "source": [
        "# 10.Write a Python program to Cloning or Copying a list?"
      ]
    },
    {
      "cell_type": "code",
      "metadata": {
        "colab": {
          "base_uri": "https://localhost:8080/"
        },
        "id": "BfxwCDnjiFxS",
        "outputId": "88365621-4a55-46c6-d7df-225e3cfda81d"
      },
      "source": [
        "# using = operator\n",
        "num_list = [[],2,4,[65,7],2,2,4,['N','I','K'],9,6,[],7,8,6,[],4,2,43]\n",
        "copy_list = num_list\n",
        "print('original list :',num_list)\n",
        "print('copy list   :  ',copy_list)"
      ],
      "execution_count": 51,
      "outputs": [
        {
          "output_type": "stream",
          "name": "stdout",
          "text": [
            "original list : [[], 2, 4, [65, 7], 2, 2, 4, ['N', 'I', 'K'], 9, 6, [], 7, 8, 6, [], 4, 2, 43]\n",
            "copy list   :   [[], 2, 4, [65, 7], 2, 2, 4, ['N', 'I', 'K'], 9, 6, [], 7, 8, 6, [], 4, 2, 43]\n"
          ]
        }
      ]
    },
    {
      "cell_type": "code",
      "metadata": {
        "colab": {
          "base_uri": "https://localhost:8080/"
        },
        "id": "RQs5FwwLjGAP",
        "outputId": "2ea12e28-d6c9-4884-c7be-c59e5eca73e8"
      },
      "source": [
        "# using copy method \n",
        "num_list = [[],2,4,[65,7],2,2,4,['N','I','K'],9,6,[],7,8,6,[],4,2,43]\n",
        "copy_list = num_list.copy()\n",
        "\n",
        "print('original list :',num_list)\n",
        "print('copy list   :  ',copy_list)"
      ],
      "execution_count": 53,
      "outputs": [
        {
          "output_type": "stream",
          "name": "stdout",
          "text": [
            "original list : [[], 2, 4, [65, 7], 2, 2, 4, ['N', 'I', 'K'], 9, 6, [], 7, 8, 6, [], 4, 2, 43]\n",
            "copy list   :   [[], 2, 4, [65, 7], 2, 2, 4, ['N', 'I', 'K'], 9, 6, [], 7, 8, 6, [], 4, 2, 43]\n"
          ]
        }
      ]
    },
    {
      "cell_type": "markdown",
      "metadata": {
        "id": "QmDLubcJjrwx"
      },
      "source": [
        "# 11.Write a Python program to Count occurrences of an element in a list?"
      ]
    },
    {
      "cell_type": "code",
      "metadata": {
        "colab": {
          "base_uri": "https://localhost:8080/"
        },
        "id": "YINhsBKujUmA",
        "outputId": "1b674058-b101-4afe-b6fa-7c54ecd7d3b8"
      },
      "source": [
        "# using count method\n",
        "num_list = [2,4,65,7,2,2,4,9,6,7,8,6,4,2,43]\n",
        "ele=int(input(\"enter element to count : \"))\n",
        "num_list.count(ele)\n",
        "print(num_list.count(ele),'times')"
      ],
      "execution_count": 57,
      "outputs": [
        {
          "output_type": "stream",
          "name": "stdout",
          "text": [
            "enter element to count : 2\n",
            "4 times\n"
          ]
        }
      ]
    },
    {
      "cell_type": "code",
      "metadata": {
        "colab": {
          "base_uri": "https://localhost:8080/"
        },
        "id": "BJbByMTmko8W",
        "outputId": "487bd4cf-0c8c-4f5c-e67e-90389ab04c21"
      },
      "source": [
        "# using for loop\n",
        "times=0\n",
        "ele=int(input(\"enter element to count : \"))\n",
        "for i in num_list:\n",
        "    if i == ele:\n",
        "        times += 1\n",
        "\n",
        "print(times,'times')        "
      ],
      "execution_count": 60,
      "outputs": [
        {
          "output_type": "stream",
          "name": "stdout",
          "text": [
            "enter element to count : 2\n",
            "4 times\n"
          ]
        }
      ]
    },
    {
      "cell_type": "code",
      "metadata": {
        "id": "5JlePiJwlpDg"
      },
      "source": [
        ""
      ],
      "execution_count": null,
      "outputs": []
    }
  ]
}
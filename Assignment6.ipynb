{
  "nbformat": 4,
  "nbformat_minor": 0,
  "metadata": {
    "colab": {
      "name": "Assignment6.ipynb",
      "provenance": [],
      "authorship_tag": "ABX9TyO2DJ3Ay49mG62Cd5mohuR1",
      "include_colab_link": true
    },
    "kernelspec": {
      "name": "python3",
      "display_name": "Python 3"
    },
    "language_info": {
      "name": "python"
    }
  },
  "cells": [
    {
      "cell_type": "markdown",
      "metadata": {
        "id": "view-in-github",
        "colab_type": "text"
      },
      "source": [
        "<a href=\"https://colab.research.google.com/github/NIKHIL-PINGALE/Python_basic_assignments/blob/main/Assignment6.ipynb\" target=\"_parent\"><img src=\"https://colab.research.google.com/assets/colab-badge.svg\" alt=\"Open In Colab\"/></a>"
      ]
    },
    {
      "cell_type": "markdown",
      "metadata": {
        "id": "HtKj2gCF1-IN"
      },
      "source": [
        "1. Write a Python Program to Display Fibonacci Sequence Using Recursion?\n",
        "2. Write a Python Program to Find Factorial of Number Using Recursion?\n",
        "3. Write a Python Program to calculate your Body Mass Index?\n",
        "4. Write a Python Program to calculate the natural logarithm of any number?\n",
        "5. Write a Python Program for cube sum of first n natural numbers?"
      ]
    },
    {
      "cell_type": "markdown",
      "metadata": {
        "id": "Nh-PqXbNt1lq"
      },
      "source": [
        "# 1. Write a Python Program to Display Fibonacci Sequence Using Recursion?\n",
        "\n"
      ]
    },
    {
      "cell_type": "code",
      "metadata": {
        "colab": {
          "base_uri": "https://localhost:8080/"
        },
        "id": "cLOQ7krHt92b",
        "outputId": "537e66f6-535a-4bbe-d033-1c490b717dae"
      },
      "source": [
        "def fibofun(num):\n",
        "    if num==0 or num==1:\n",
        "        return num\n",
        "    return (fibofun(num-1) + fibofun(num-2))    \n",
        "\n",
        "terms=int(input(\"Enter number of terms : \"))\n",
        "for i in range(terms):\n",
        "    print(fibofun(i))    "
      ],
      "execution_count": 1,
      "outputs": [
        {
          "output_type": "stream",
          "text": [
            "Enter number of terms : 8\n",
            "0\n",
            "1\n",
            "1\n",
            "2\n",
            "3\n",
            "5\n",
            "8\n",
            "13\n"
          ],
          "name": "stdout"
        }
      ]
    },
    {
      "cell_type": "markdown",
      "metadata": {
        "id": "JLdxCZT1uoAb"
      },
      "source": [
        "# 2. Write a Python Program to Find Factorial of Number Using Recursion?"
      ]
    },
    {
      "cell_type": "code",
      "metadata": {
        "colab": {
          "base_uri": "https://localhost:8080/"
        },
        "id": "KO-gHJIBucmv",
        "outputId": "d741f64b-14e4-4469-8009-1fc1abfbf2c2"
      },
      "source": [
        "def factfun(n):\n",
        "    if n==0 or n==1:\n",
        "        return 1\n",
        "    return n * factfun(n-1)    \n",
        "\n",
        "\n",
        "num=int(input(\"enter your number : \"))   \n",
        "result=factfun(num)\n",
        "print(\"Factorial of {} is : {}\".format(num,result))"
      ],
      "execution_count": 3,
      "outputs": [
        {
          "output_type": "stream",
          "text": [
            "enter your number : 5\n",
            "Factorial of 5 is : 120\n"
          ],
          "name": "stdout"
        }
      ]
    },
    {
      "cell_type": "markdown",
      "metadata": {
        "id": "qgKeRK7cv-wM"
      },
      "source": [
        "# 3. Write a Python Program to calculate your Body Mass Index?"
      ]
    },
    {
      "cell_type": "code",
      "metadata": {
        "colab": {
          "base_uri": "https://localhost:8080/"
        },
        "id": "SklG_t1fvtHz",
        "outputId": "9393482e-b6ec-49bf-c781-90a92b745ffb"
      },
      "source": [
        "def bmifun(weight,height):\n",
        "    bmi=weight/(height**2)\n",
        "    return bmi\n",
        "\n",
        "weight=float(input(\"enter your weight : \"))\n",
        "height=float(input(\"enter your height in meter : \"))    \n",
        "bmi=bmifun(weight,height)\n",
        "print(\"Your Body Mass Index is :\",bmi)"
      ],
      "execution_count": 6,
      "outputs": [
        {
          "output_type": "stream",
          "text": [
            "enter your weight : 73.600\n",
            "enter your height in meter : 1.63\n",
            "Your Body Mass Index is : 27.701456584741617\n"
          ],
          "name": "stdout"
        }
      ]
    },
    {
      "cell_type": "markdown",
      "metadata": {
        "id": "cjSwvAkCxR3z"
      },
      "source": [
        "# 4. Write a Python Program to calculate the natural logarithm of any number?"
      ]
    },
    {
      "cell_type": "code",
      "metadata": {
        "colab": {
          "base_uri": "https://localhost:8080/"
        },
        "id": "I5fG6J-Nw7BE",
        "outputId": "3f91b453-7a08-49f3-8f59-b4df387eb236"
      },
      "source": [
        "import math\n",
        "def logfun(num):\n",
        "    logn=math.log(num)\n",
        "    return logn\n",
        "\n",
        "num=eval(input(\"enter your number : \"))\n",
        "print(\"natural logarith of {} is :{}\".format(num,logfun(num)))"
      ],
      "execution_count": 19,
      "outputs": [
        {
          "output_type": "stream",
          "text": [
            "enter your number : 7.50\n",
            "natural logarith of 7.5 is :2.0149030205422647\n"
          ],
          "name": "stdout"
        }
      ]
    },
    {
      "cell_type": "markdown",
      "metadata": {
        "id": "1kKmp2gfzELf"
      },
      "source": [
        "# 5. Write a Python Program for cube sum of first n natural numbers?"
      ]
    },
    {
      "cell_type": "code",
      "metadata": {
        "colab": {
          "base_uri": "https://localhost:8080/"
        },
        "id": "f-4sgFLMyRhD",
        "outputId": "b80de0aa-ba4f-407d-b706-8cbb086b7d67"
      },
      "source": [
        "def cubefun(n):\n",
        "    sum=0\n",
        "    for i in range(1,n+1):\n",
        "        sum += (i**3)\n",
        "    return sum\n",
        "\n",
        "num=int(input(\"enter value of n : \"))        \n",
        "print(\"Cube Sum Of First {} Natural Numbers is {}\".format(num,cubefun(num)))"
      ],
      "execution_count": 32,
      "outputs": [
        {
          "output_type": "stream",
          "text": [
            "enter value of n : 10\n",
            "Cube Sum Of First 10 Natural Numbers is 3025\n"
          ],
          "name": "stdout"
        }
      ]
    },
    {
      "cell_type": "markdown",
      "metadata": {
        "id": "Z7ePUzFU0vvk"
      },
      "source": [
        "## or another way"
      ]
    },
    {
      "cell_type": "code",
      "metadata": {
        "colab": {
          "base_uri": "https://localhost:8080/"
        },
        "id": "qrx4FxUn0HbO",
        "outputId": "311f1e6a-3b1b-4e5c-8619-69776948da1e"
      },
      "source": [
        "def funcube(num):\n",
        "    sum=(num * (num+1)/2)\n",
        "    return sum**2\n",
        "\n",
        "n=int(input(\"enter value of n : \"))        \n",
        "print(\"Cube Sum Of First {} Natural Numbers is {}\".format(n,funcube(n)))    "
      ],
      "execution_count": 31,
      "outputs": [
        {
          "output_type": "stream",
          "text": [
            "enter value of n : 10\n",
            "Cube Sum Of First 10 Natural Numbers is 3025.0\n"
          ],
          "name": "stdout"
        }
      ]
    }
  ]
}
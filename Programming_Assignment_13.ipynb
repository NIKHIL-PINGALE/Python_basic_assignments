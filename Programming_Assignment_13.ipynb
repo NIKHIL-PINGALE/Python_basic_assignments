{
  "nbformat": 4,
  "nbformat_minor": 0,
  "metadata": {
    "colab": {
      "name": "Programming Assignment_13.ipynb",
      "provenance": [],
      "authorship_tag": "ABX9TyO8MjCY67fAi3JYBrN4Y8V1",
      "include_colab_link": true
    },
    "kernelspec": {
      "name": "python3",
      "display_name": "Python 3"
    },
    "language_info": {
      "name": "python"
    }
  },
  "cells": [
    {
      "cell_type": "markdown",
      "metadata": {
        "id": "view-in-github",
        "colab_type": "text"
      },
      "source": [
        "<a href=\"https://colab.research.google.com/github/NIKHIL-PINGALE/Python_basic_assignments/blob/main/Programming_Assignment_13.ipynb\" target=\"_parent\"><img src=\"https://colab.research.google.com/assets/colab-badge.svg\" alt=\"Open In Colab\"/></a>"
      ]
    },
    {
      "cell_type": "markdown",
      "metadata": {
        "id": "xTKTgsxxz1Uv"
      },
      "source": [
        "Question 1:\n",
        "\n",
        "Write a program that calculates and prints the value according to the given formula:\n",
        "\n",
        "Q = Square root of [(2 * C * D)/H]\n",
        "Following are the fixed values of C and H:\n",
        "C is 50. H is 30.\n",
        "\n",
        "D is the variable whose values should be input to your program in a comma-separated sequence.\n",
        "\n",
        "Example\n",
        "\n",
        "Let us assume the following comma separated input sequence is given to the program: 100,150,180\n",
        "The output of the program should be: 18,22,24"
      ]
    },
    {
      "cell_type": "code",
      "metadata": {
        "colab": {
          "base_uri": "https://localhost:8080/"
        },
        "id": "brmcifh4yu9q",
        "outputId": "28c9fab8-82c9-4b1f-90d8-9228055a2ef9"
      },
      "source": [
        "import math\n",
        "# Given\n",
        "C = 50\n",
        "H = 30\n",
        "D = input(\"enter comma separated value of D : \").split(',')\n",
        "result = []\n",
        "for d in D:\n",
        "    Q = int(math.sqrt((2 * C * int(d))/H))\n",
        "    result.append(Q)\n",
        "print(result)\n",
        "\n"
      ],
      "execution_count": 26,
      "outputs": [
        {
          "output_type": "stream",
          "name": "stdout",
          "text": [
            "enter comma separated value of D : 100,150,180\n",
            "[18, 22, 24]\n"
          ]
        }
      ]
    },
    {
      "cell_type": "markdown",
      "metadata": {
        "id": "Ss-xaI559rTp"
      },
      "source": [
        "Question 2:\n",
        "\n",
        "Write a program which takes 2 digits, X,Y as input and generates a 2-dimensional array. \n",
        "\n",
        "The element value in the i-th row and j-th column of the array should be i*j.\n",
        "\n",
        "Note: i=0,1.., X-1; j=0,1,¡Y-1.\n",
        "\n",
        "Example\n",
        "Suppose the following inputs are given to the program:  3,5\n",
        "Then, the output of the program should be:\n",
        " \n",
        "[[0, 0, 0, 0, 0], [0, 1, 2, 3, 4], [0, 2, 4, 6, 8]]"
      ]
    },
    {
      "cell_type": "code",
      "metadata": {
        "id": "HTpXGg-x954e",
        "colab": {
          "base_uri": "https://localhost:8080/"
        },
        "outputId": "68e82008-4ebc-43dd-875e-f169c929f9a3"
      },
      "source": [
        "# input value of X and Y from user\n",
        "X = int(input(\"enter value of X : \"))\n",
        "Y = int(input(\"enter value of Y : \"))\n",
        "array = []\n",
        "# for loop to generate array and its values\n",
        "for i in range(X):\n",
        "    array.append([])\n",
        "    for j in range(Y):\n",
        "        array[i].append(i*j)\n",
        "\n",
        "print(\"resultant array is :\",array)        \n"
      ],
      "execution_count": 5,
      "outputs": [
        {
          "output_type": "stream",
          "name": "stdout",
          "text": [
            "enter value of X : 3\n",
            "enter value of Y : 5\n",
            "resultant array is : [[0, 0, 0, 0, 0], [0, 1, 2, 3, 4], [0, 2, 4, 6, 8]]\n"
          ]
        }
      ]
    },
    {
      "cell_type": "markdown",
      "metadata": {
        "id": "SWvlcZRhctVB"
      },
      "source": [
        "Question 3:\n",
        "\n",
        "Write a program that accepts a comma separated sequence of words as input and prints the words in a comma-separated sequence after sorting them alphabetically.\n",
        "\n",
        "Suppose the following input is supplied to the program:\n",
        "without,hello,bag,world\n",
        "\n",
        "Then, the output should be:\n",
        "bag,hello,without,world"
      ]
    },
    {
      "cell_type": "code",
      "metadata": {
        "colab": {
          "base_uri": "https://localhost:8080/"
        },
        "id": "z2KCn8SLbr40",
        "outputId": "93fbbfe4-61c4-4cd2-8849-f37201b658f2"
      },
      "source": [
        "# accepts a comma separated sequence of words as input from user\n",
        "word_list = input(\"Enter comma separated words : \").split(',')\n",
        "# sort() method used for sorting words alphabetically\n",
        "word_list.sort()\n",
        "print(\"Output :\",','.join(word_list))"
      ],
      "execution_count": 27,
      "outputs": [
        {
          "output_type": "stream",
          "name": "stdout",
          "text": [
            "Enter comma separated words : without,hello,bag,world\n",
            "Output : bag,hello,without,world\n"
          ]
        }
      ]
    },
    {
      "cell_type": "markdown",
      "metadata": {
        "id": "Lw58YGJ-e9zE"
      },
      "source": [
        "Question 4:\n",
        "\n",
        "Write a program that accepts a sequence of whitespace separated words as input and prints the words after removing all duplicate words and sorting them alphanumerically.\n",
        "\n",
        "Suppose the following input is supplied to the program:\n",
        "hello world and practice makes perfect and hello world again\n",
        "\n",
        "Then, the output should be:\n",
        "again and hello makes perfect practice world"
      ]
    },
    {
      "cell_type": "code",
      "metadata": {
        "colab": {
          "base_uri": "https://localhost:8080/"
        },
        "id": "kP5ASRABdXCo",
        "outputId": "8b028a09-7d8c-4482-ef91-eae27019ca48"
      },
      "source": [
        "# accepts a sequence of whitespace separated words as input from user\n",
        "words_list = input(\"Enter comma separated words : \").split(' ')\n",
        "words_list=list(set(words_list))\n",
        "words_list.sort()\n",
        "print(\"Output :\",' '.join(words_list))"
      ],
      "execution_count": 32,
      "outputs": [
        {
          "output_type": "stream",
          "name": "stdout",
          "text": [
            "Enter comma separated words : hello world and practice makes perfect and hello world again\n",
            "Output : again and hello makes perfect practice world\n"
          ]
        }
      ]
    },
    {
      "cell_type": "markdown",
      "metadata": {
        "id": "tH9OqyXDkIds"
      },
      "source": [
        "Question 5:\n",
        "Write a program that accepts a sentence and calculate the number of letters and digits.\n",
        "\n",
        "Suppose the following input is supplied to the program:\n",
        "hello world! 123\n",
        "\n",
        "Then, the output should be:\n",
        "LETTERS 10\n",
        "DIGITS 3"
      ]
    },
    {
      "cell_type": "code",
      "metadata": {
        "colab": {
          "base_uri": "https://localhost:8080/"
        },
        "id": "tPTzRXaliDeh",
        "outputId": "4e9c2098-8344-407a-f699-ea8ac4ea37bc"
      },
      "source": [
        "# accepts a sentence as input from user\n",
        "sentence = input(\"Enter your sentence : \")\n",
        "dig = let = 0\n",
        "for s in sentence :\n",
        "    if s.isdigit():\n",
        "        dig += 1\n",
        "    elif s.isalpha():\n",
        "        let += 1\n",
        "    else:pass\n",
        "print(\"LETTERS \" + str(let) + \"  DIGITS \" + str(dig))            "
      ],
      "execution_count": 36,
      "outputs": [
        {
          "output_type": "stream",
          "name": "stdout",
          "text": [
            "Enter your sentence : hello world! 123\n",
            "LETTERS 10  DIGITS 3\n"
          ]
        }
      ]
    },
    {
      "cell_type": "markdown",
      "metadata": {
        "id": "iT4I90WvmXZx"
      },
      "source": [
        "Question 6:\n",
        "A website requires the users to input username and password to register. Write a program to\n",
        "check the validity of password input by users.\n",
        "Following are the criteria for checking the password:\n",
        "1. At least 1 letter between [a-z]\n",
        "2. At least 1 number between [0-9]\n",
        "1. At least 1 letter between [A-Z]\n",
        "3. At least 1 character from [$#@]\n",
        "4. Minimum length of transaction password: 6\n",
        "5. Maximum length of transaction password: 12\n",
        "Your program should accept a sequence of comma separated passwords and will check them\n",
        "according to the above criteria. Passwords that match the criteria are to be printed, each\n",
        "separated by a comma.\n",
        "Example\n",
        "If the following passwords are given as input to the program:\n",
        "ABd1234@1,a F1#,2w3E*,2We3345\n",
        "Then, the output of the program should be:\n",
        "ABd1234@1"
      ]
    },
    {
      "cell_type": "code",
      "metadata": {
        "colab": {
          "base_uri": "https://localhost:8080/"
        },
        "id": "pFhl7ezxlTQ7",
        "outputId": "2f0a6cf6-e01c-4754-9e9b-f290d0326383"
      },
      "source": [
        "import re\n",
        "passwords = input(\"Enter your password : \").split(\",\")\n",
        "# blank listy to store valid password\n",
        "valid_pass = []\n",
        "# for loop to iterate over each passwords and check password under given criteria\n",
        "for i in passwords:\n",
        "    if len(i) < 6 or len(i) > 12 :\n",
        "        continue\n",
        "    elif not re.search(\"([a-z])+\",i):\n",
        "        continue    \n",
        "    elif not re.search(\"([0-9])+\",i):\n",
        "        continue\n",
        "    elif not re.search(\"([A-Z])+\",i):\n",
        "        continue\n",
        "    elif not re.search(\"([$#@])+\",i):\n",
        "        continue            \n",
        "    else:\n",
        "        valid_pass.append(i)\n",
        "# final output        \n",
        "print(\"Valid Password is :\",((\" \").join(valid_pass)))            "
      ],
      "execution_count": 10,
      "outputs": [
        {
          "output_type": "stream",
          "name": "stdout",
          "text": [
            "Enter your password : ABd1234@1,a F1#,2w3E*,2We3345\n",
            "Valid Password is : ABd1234@1\n"
          ]
        }
      ]
    }
  ]
}
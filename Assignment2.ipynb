{
  "nbformat": 4,
  "nbformat_minor": 0,
  "metadata": {
    "colab": {
      "name": "Assignment2.ipynb",
      "provenance": [],
      "collapsed_sections": [],
      "authorship_tag": "ABX9TyNC1N39NUBLhFLdO+NgvtTl",
      "include_colab_link": true
    },
    "kernelspec": {
      "name": "python3",
      "display_name": "Python 3"
    },
    "language_info": {
      "name": "python"
    }
  },
  "cells": [
    {
      "cell_type": "markdown",
      "metadata": {
        "id": "view-in-github",
        "colab_type": "text"
      },
      "source": [
        "<a href=\"https://colab.research.google.com/github/NIKHIL-PINGALE/Python_basic_assignments/blob/main/Assignment2.ipynb\" target=\"_parent\"><img src=\"https://colab.research.google.com/assets/colab-badge.svg\" alt=\"Open In Colab\"/></a>"
      ]
    },
    {
      "cell_type": "markdown",
      "metadata": {
        "id": "xsr9nlKeAEIs"
      },
      "source": [
        "# **Q1 . Write a Python program to convert kilometers to miles?**"
      ]
    },
    {
      "cell_type": "code",
      "metadata": {
        "colab": {
          "base_uri": "https://localhost:8080/"
        },
        "id": "txCbJ7wK_YlV",
        "outputId": "e7dbf6a4-37cc-48cc-8ba2-c347e0a2866e"
      },
      "source": [
        "km=int(input(\"Enter kilometers = \"))\n",
        "# 1km = 0.621371\n",
        "mile=km*0.621371\n",
        "print(\"{} km is equal to {} miles\".format(km,mile))"
      ],
      "execution_count": null,
      "outputs": [
        {
          "output_type": "stream",
          "text": [
            "Enter kilometers = 320\n",
            "320 km is equal to 198.83872 miles\n"
          ],
          "name": "stdout"
        }
      ]
    },
    {
      "cell_type": "markdown",
      "metadata": {
        "id": "1e-9jIG8BVgB"
      },
      "source": [
        "# **Q2. Write a Python program to convert Celsius to Fahrenheit?**"
      ]
    },
    {
      "cell_type": "code",
      "metadata": {
        "id": "wJ_h03OTBhQy",
        "colab": {
          "base_uri": "https://localhost:8080/"
        },
        "outputId": "87f0d4bd-8c5b-440b-8cf0-a3559dfefad2"
      },
      "source": [
        "celcius=eval(input(\"enter your celcius value = \"))\n",
        "# 1 farenheit = (celcius * 1.8) + 32\n",
        "farenheit = (celcius * 1.8) + 32\n",
        "print(\"{0} celcius is equal to {1}\".format(celcius,farenheit))"
      ],
      "execution_count": 12,
      "outputs": [
        {
          "output_type": "stream",
          "text": [
            "enter your celcius value = 37.5\n",
            "37.5 celcius is equal to 99.5\n"
          ],
          "name": "stdout"
        }
      ]
    },
    {
      "cell_type": "markdown",
      "metadata": {
        "id": "qvrskf4yI9-H"
      },
      "source": [
        "# **Q3. Write a Python program to display calendar?**"
      ]
    },
    {
      "cell_type": "code",
      "metadata": {
        "colab": {
          "base_uri": "https://localhost:8080/"
        },
        "id": "Kjz-1bxPIqPN",
        "outputId": "86e80187-fd7b-4237-f733-9a3073f97a4b"
      },
      "source": [
        "import calendar\n",
        "yy=int(input(\"enter year = \"))\n",
        "mm=int(input(\"enter month = \"))\n",
        "print(calendar.month(yy,mm))"
      ],
      "execution_count": 41,
      "outputs": [
        {
          "output_type": "stream",
          "text": [
            "enter year = 1998\n",
            "enter month = 11\n",
            "   November 1998\n",
            "Mo Tu We Th Fr Sa Su\n",
            "                   1\n",
            " 2  3  4  5  6  7  8\n",
            " 9 10 11 12 13 14 15\n",
            "16 17 18 19 20 21 22\n",
            "23 24 25 26 27 28 29\n",
            "30\n",
            "\n"
          ],
          "name": "stdout"
        }
      ]
    },
    {
      "cell_type": "markdown",
      "metadata": {
        "id": "MZ7h3GVIKpnW"
      },
      "source": [
        "# **Q4. Write a Python program to solve quadratic equation?**"
      ]
    },
    {
      "cell_type": "code",
      "metadata": {
        "colab": {
          "base_uri": "https://localhost:8080/"
        },
        "id": "oeZwXZfJKsjj",
        "outputId": "b4091460-c0d1-4ba1-ae5a-ed1cce081590"
      },
      "source": [
        "#import complex math module\n",
        "import cmath\n",
        "a=int(input(\"enter a = \"))\n",
        "b=int(input(\"enter b = \"))\n",
        "c=int(input(\"enter c = \"))\n",
        "#Firstly calculate the discriminant\n",
        "disc=(b**2)-(4*a*c)\n",
        "# calculate roots of quadratic equation\n",
        "root1=(-b-cmath.sqrt(disc))/(2*a)\n",
        "root2=(-b+cmath.sqrt(disc))/(2*a)\n",
        "print(\"solution of quadratic equation is = {0}  and  {1}\".format(root1,root2))"
      ],
      "execution_count": 38,
      "outputs": [
        {
          "output_type": "stream",
          "text": [
            "enter a = 1\n",
            "enter b = 6\n",
            "enter c = 5\n",
            "solution of quadratic equation is = (-5+0j)  and  (-1+0j)\n"
          ],
          "name": "stdout"
        }
      ]
    },
    {
      "cell_type": "markdown",
      "metadata": {
        "id": "OubxRnJ3VNrj"
      },
      "source": [
        "# **Q5. Write a Python program to swap two variables without temp variable?**"
      ]
    },
    {
      "cell_type": "code",
      "metadata": {
        "colab": {
          "base_uri": "https://localhost:8080/"
        },
        "id": "SOFpbbEpVYLa",
        "outputId": "298ba98e-f8e6-4fec-80cb-40b90fee62c0"
      },
      "source": [
        "num1=input(\"enter value of num1 = \")\n",
        "num2=input(\"enter value of num2 = \")\n",
        "print(\"Before swapping : num1={}  and  num2={}\".format(num1,num2))\n",
        "num1,num2=num2,num1\n",
        "print(\"After swapping :  num1={}  and  num2={}\".format(num1,num2))"
      ],
      "execution_count": 33,
      "outputs": [
        {
          "output_type": "stream",
          "text": [
            "enter value of num1 = 111\n",
            "enter value of num2 = 999\n",
            "Before swapping : num1=111  and  num2=999\n",
            "After swapping :  num1=999  and  num2=111\n"
          ],
          "name": "stdout"
        }
      ]
    }
  ]
}
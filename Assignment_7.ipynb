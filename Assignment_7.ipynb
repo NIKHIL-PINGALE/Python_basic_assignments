{
  "nbformat": 4,
  "nbformat_minor": 0,
  "metadata": {
    "colab": {
      "name": "Assignment_7.ipynb",
      "provenance": [],
      "collapsed_sections": [],
      "authorship_tag": "ABX9TyN2yxz/mpGKPcc8OcEZzV82",
      "include_colab_link": true
    },
    "kernelspec": {
      "name": "python3",
      "display_name": "Python 3"
    },
    "language_info": {
      "name": "python"
    }
  },
  "cells": [
    {
      "cell_type": "markdown",
      "metadata": {
        "id": "view-in-github",
        "colab_type": "text"
      },
      "source": [
        "<a href=\"https://colab.research.google.com/github/NIKHIL-PINGALE/Python_basic_assignments/blob/main/Assignment_7.ipynb\" target=\"_parent\"><img src=\"https://colab.research.google.com/assets/colab-badge.svg\" alt=\"Open In Colab\"/></a>"
      ]
    },
    {
      "cell_type": "markdown",
      "metadata": {
        "id": "DO1rBJWWzXc5"
      },
      "source": [
        "1. Write a Python Program to find sum of array?\n",
        "2. Write a Python Program to find largest element in an array?\n",
        "3. Write a Python Program for array rotation?\n",
        "4. Write a Python Program to Split the array and add the first part to the end?\n",
        "5. Write a Python Program to check if given array is Monotonic?\n",
        "# New Section"
      ]
    },
    {
      "cell_type": "markdown",
      "metadata": {
        "id": "9orO6FMIeCDl"
      },
      "source": [
        "# **Q1. Write a Python Program to find sum of array?**"
      ]
    },
    {
      "cell_type": "code",
      "metadata": {
        "colab": {
          "base_uri": "https://localhost:8080/"
        },
        "id": "avViC4WgzZCO",
        "outputId": "8f349fe6-8aeb-49e2-f41b-9609f0682713"
      },
      "source": [
        "def arr_sum(arr):\n",
        "    sum=0\n",
        "    for i in arr:\n",
        "        sum += i\n",
        "    return  sum\n",
        "\n",
        "num_arr = [] #declaring array variable\n",
        "#input elements in array from user\n",
        "n = int(input(\"how many elements u want to input in array : \"))        \n",
        "for i in range(n):\n",
        "    ele=int(input())\n",
        "    num_arr.append(ele)\n",
        "\n",
        "print(\"num_arr =\",num_arr)\n",
        "print(\"sum of array =\",arr_sum(num_arr))"
      ],
      "execution_count": null,
      "outputs": [
        {
          "output_type": "stream",
          "name": "stdout",
          "text": [
            "how many elements u want to input in array : 5\n",
            "6\n",
            "5\n",
            "4\n",
            "3\n",
            "2\n",
            "num_arr = [6, 5, 4, 3, 2]\n",
            "sum of array = 20\n"
          ]
        }
      ]
    },
    {
      "cell_type": "markdown",
      "metadata": {
        "id": "UQYOFicbeGjH"
      },
      "source": [
        "\n",
        "\n",
        "\n",
        "\n",
        "# **Q2. Write a Python Program to find largest element in an array?**"
      ]
    },
    {
      "cell_type": "code",
      "metadata": {
        "colab": {
          "base_uri": "https://localhost:8080/"
        },
        "id": "9tHNrcmSeujW",
        "outputId": "c893c83d-1cea-4609-e72c-9ead3cc73d6c"
      },
      "source": [
        "def arr_max(arr):\n",
        "    max=arr[0]\n",
        "    for i in arr:\n",
        "        if i>max:\n",
        "            max=i\n",
        "    return max        \n",
        "\n",
        "num_arr = []#declaring array variable\n",
        "#input elements in array from user\n",
        "n = int(input(\"how many elements u want to input in array : \"))        \n",
        "for i in range(n):\n",
        "    ele=int(input())\n",
        "    num_arr.append(ele)\n",
        "\n",
        "print(\"num_arr =\",num_arr)\n",
        "print(\"largest element in an array =\",arr_max(num_arr))\n",
        "\n",
        "\n",
        "\n"
      ],
      "execution_count": null,
      "outputs": [
        {
          "output_type": "stream",
          "name": "stdout",
          "text": [
            "how many elements u want to input in array : 5\n",
            "1\n",
            "2\n",
            "5\n",
            "8\n",
            "6\n",
            "num_arr = [1, 2, 5, 8, 6]\n",
            "largest element in an array = 8\n"
          ]
        }
      ]
    },
    {
      "cell_type": "markdown",
      "metadata": {
        "id": "O-1fVsz8eGmq"
      },
      "source": [
        "# **Q3. Write a Python Program for array rotation?**\n"
      ]
    },
    {
      "cell_type": "code",
      "metadata": {
        "id": "YKoo-DVZewDc",
        "colab": {
          "base_uri": "https://localhost:8080/"
        },
        "outputId": "cfa0c898-10b3-4e75-83a4-eb63b13ced21"
      },
      "source": [
        "def rot_arr(arr):\n",
        "    for i in range(0, rot): \n",
        "        first = arr[0] \n",
        "        \n",
        "        for j in range(n-1):    \n",
        "            arr[j] = arr[j+1]\n",
        "        arr[n-1] = first  \n",
        "    return (arr)     \n",
        "\n",
        "num_arr = [] #declaring array variable\n",
        "#input elements in array from user\n",
        "n = int(input(\"how many elements u want to input in array : \"))        \n",
        "for i in range(n):\n",
        "    ele=int(input())\n",
        "    num_arr.append(ele)\n",
        "    \n",
        "#print original array before rotating\n",
        "print(\"original num_arr =\",num_arr)\n",
        "\n",
        "rot=int(input(\"Enter how many elements you want to rotate : \"))\n",
        "\n",
        "#print array after rotation\n",
        "print(\"array after rotation =\",rot_arr(num_arr))"
      ],
      "execution_count": 10,
      "outputs": [
        {
          "output_type": "stream",
          "name": "stdout",
          "text": [
            "how many elements u want to input in array : 3\n",
            "1\n",
            "2\n",
            "3\n",
            "original num_arr = [1, 2, 3]\n",
            "Enter how many elements you want to rotate : 2\n",
            "array after rotation = [3, 1, 2]\n"
          ]
        }
      ]
    },
    {
      "cell_type": "markdown",
      "metadata": {
        "id": "L9QkyfFfeGqf"
      },
      "source": [
        "# **Q4. Write a Python Program to Split the array and add the first part to the end?**\n"
      ]
    },
    {
      "cell_type": "code",
      "metadata": {
        "id": "OAF70OgzexBn"
      },
      "source": [
        "def split_array(arr,s):\n",
        "    temp = arr[:s]\n",
        "    return arr[s:] + temp\n",
        "\n",
        "num_arr = [] #declaring array variable\n",
        "#input elements in array from user\n",
        "n = int(input(\"how many elements u want to input in array : \"))        \n",
        "for i in range(n):\n",
        "    ele=int(input())\n",
        "    num_arr.append(ele)\n",
        "    \n",
        "#print original array before spliting\n",
        "print(\"original num_arr =\",num_arr)\n",
        "\n",
        "split=int(input(\"Enter index to split array : \"))\n",
        "\n",
        "#print array after modification\n",
        "print(\"array after spliting =\",split_array(num_arr ,split))"
      ],
      "execution_count": null,
      "outputs": []
    },
    {
      "cell_type": "markdown",
      "metadata": {
        "id": "5gxSBHdqeGuD"
      },
      "source": [
        "# **Q5. Write a Python Program to check if given array is Monotonic?**\n"
      ]
    },
    {
      "cell_type": "code",
      "metadata": {
        "colab": {
          "base_uri": "https://localhost:8080/"
        },
        "id": "vWlOWVQPBZAe",
        "outputId": "18de62e3-7861-4408-9e56-e8e1a239c2eb"
      },
      "source": [
        "def mono_arr(arr , n):\n",
        "    inc=True\n",
        "    dec=True\n",
        "    for i in range(1,n):\n",
        "        if arr[i] > arr[i-1]:\n",
        "            dec=False\n",
        "        if arr[i] < arr[i-1]:\n",
        "            inc=False\n",
        "    return inc or dec   \n",
        "\n",
        "num_arr = []\n",
        "#input elements in array from user\n",
        "n = int(input(\"how many elements u want to input in array : \"))        \n",
        "for i in range(n):\n",
        "    ele=int(input())\n",
        "    num_arr.append(ele)\n",
        "    \n",
        "\n",
        "print(\"is monotonic array =\",mono_arr(num_arr ,n))             "
      ],
      "execution_count": 19,
      "outputs": [
        {
          "output_type": "stream",
          "name": "stdout",
          "text": [
            "how many elements u want to input in array : 3\n",
            "1\n",
            "8\n",
            "10000\n",
            "is monotonic array = True\n"
          ]
        }
      ]
    },
    {
      "cell_type": "code",
      "metadata": {
        "id": "5ZT0ZYsLes2N"
      },
      "source": [
        ""
      ],
      "execution_count": null,
      "outputs": []
    }
  ]
}
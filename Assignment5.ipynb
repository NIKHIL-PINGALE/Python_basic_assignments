{
  "nbformat": 4,
  "nbformat_minor": 0,
  "metadata": {
    "colab": {
      "name": "Assignment5.ipynb",
      "provenance": [],
      "collapsed_sections": [],
      "authorship_tag": "ABX9TyNJlpcALXcSp2C15UFgWTTl",
      "include_colab_link": true
    },
    "kernelspec": {
      "name": "python3",
      "display_name": "Python 3"
    },
    "language_info": {
      "name": "python"
    }
  },
  "cells": [
    {
      "cell_type": "markdown",
      "metadata": {
        "id": "view-in-github",
        "colab_type": "text"
      },
      "source": [
        "<a href=\"https://colab.research.google.com/github/NIKHIL-PINGALE/Python_basic_assignments/blob/main/Assignment5.ipynb\" target=\"_parent\"><img src=\"https://colab.research.google.com/assets/colab-badge.svg\" alt=\"Open In Colab\"/></a>"
      ]
    },
    {
      "cell_type": "markdown",
      "metadata": {
        "id": "PQRejQYiPfE7"
      },
      "source": [
        "# **Q1. Write a Python Program to Find LCM?**"
      ]
    },
    {
      "cell_type": "code",
      "metadata": {
        "id": "hBaQsPwDr6SQ",
        "colab": {
          "base_uri": "https://localhost:8080/"
        },
        "outputId": "113ba519-4aca-4a15-e12c-8fc5020cb6aa"
      },
      "source": [
        "x=int(input(\"Enter Number1 : \"))\n",
        "y=int(input(\"Enter Number2 : \"))\n",
        "\n",
        "if x>y:\n",
        "    greater=x\n",
        "else:\n",
        "    greater=y\n",
        "\n",
        "while (True):\n",
        "    if ((greater%x==0) and (greater%y==0)):\n",
        "        lcm=greater\n",
        "        break\n",
        "    greater+=1\n",
        "print(lcm)                "
      ],
      "execution_count": 2,
      "outputs": [
        {
          "output_type": "stream",
          "text": [
            "Enter Number1 : 12\n",
            "Enter Number2 : 14\n",
            "84\n"
          ],
          "name": "stdout"
        }
      ]
    },
    {
      "cell_type": "markdown",
      "metadata": {
        "id": "zK8gxBeqS4Os"
      },
      "source": [
        "# **Q2. Write a Python Program to Find HCF?**"
      ]
    },
    {
      "cell_type": "code",
      "metadata": {
        "colab": {
          "base_uri": "https://localhost:8080/"
        },
        "id": "StUaGw35SlbP",
        "outputId": "229becf5-0b65-4a9b-fbbf-9c91862bbd43"
      },
      "source": [
        "a=int(input(\"Enter Number1 : \"))\n",
        "b=int(input(\"Enter Number2 : \"))\n",
        "if a < b :\n",
        "    smaller = a\n",
        "else :\n",
        "    smaller = b\n",
        "\n",
        "for i in range(1,smaller+1):\n",
        "    if (a % i == 0) and (b % i == 0) :\n",
        "        hcf=i\n",
        "        \n",
        "print(hcf)        \n",
        "\n"
      ],
      "execution_count": 7,
      "outputs": [
        {
          "output_type": "stream",
          "text": [
            "Enter Number1 : 24\n",
            "Enter Number2 : 48\n",
            "24\n"
          ],
          "name": "stdout"
        }
      ]
    },
    {
      "cell_type": "markdown",
      "metadata": {
        "id": "SSUJF-adXZ1u"
      },
      "source": [
        "# **Q3. Write a Python Program to Convert Decimal to Binary, Octal and Hexadecimal?**"
      ]
    },
    {
      "cell_type": "code",
      "metadata": {
        "colab": {
          "base_uri": "https://localhost:8080/"
        },
        "id": "dINyHOcjXez1",
        "outputId": "1bdd2845-0908-4498-866e-9a1cb62acc87"
      },
      "source": [
        "num=int(input(\"enter your decimal number = \"))\n",
        "print(bin(num),\"in Binary\")\n",
        "print(oct(num),\"in Octal\")\n",
        "print(hex(num),\"in Hexadecimal\")"
      ],
      "execution_count": 11,
      "outputs": [
        {
          "output_type": "stream",
          "text": [
            "enter your decimal number = 344\n",
            "0b101011000 in Binary\n",
            "0o530 in Octal\n",
            "0x158 in Hexadecimal\n"
          ],
          "name": "stdout"
        }
      ]
    },
    {
      "cell_type": "markdown",
      "metadata": {
        "id": "LbBd_Bl8oewv"
      },
      "source": [
        "# **Q4. Write a Python Program To Find ASCII value of a character?**"
      ]
    },
    {
      "cell_type": "code",
      "metadata": {
        "colab": {
          "base_uri": "https://localhost:8080/"
        },
        "id": "ThK3FZa0ogPL",
        "outputId": "907dc4ad-76a2-4aed-ec50-c97c540700de"
      },
      "source": [
        "char=input(\"enter your character = \")\n",
        "print(\"ASCII value of character\",char,\"is\",ord(char))"
      ],
      "execution_count": 21,
      "outputs": [
        {
          "output_type": "stream",
          "text": [
            "enter your character = E\n",
            "ASCII value of character E is 69\n"
          ],
          "name": "stdout"
        }
      ]
    },
    {
      "cell_type": "markdown",
      "metadata": {
        "id": "9UAWduZcpnct"
      },
      "source": [
        "# **Q5. Write a Python Program to Make a Simple Calculator with 4 basic mathematical operations?**"
      ]
    },
    {
      "cell_type": "code",
      "metadata": {
        "colab": {
          "base_uri": "https://localhost:8080/"
        },
        "id": "YW5jMJpTpwea",
        "outputId": "68313b49-af13-4c70-a2f8-4633d3cf47be"
      },
      "source": [
        "#without function\n",
        "num1=int(input(\"Enter number 1 = \"))\n",
        "num2=int(input(\"Enter number 2 = \"))\n",
        "oper=input(\"enter operator = \\n Addition : + ,\\n Substraction : - ,\\n Multiplication : * ,\\n Division : / \\n\")\n",
        "if oper == \"+\":\n",
        "    print(\"Addition is =\",num1+num2)\n",
        "elif oper == \"-\":\n",
        "    print(\"Substraction is =\",num1-num2)\n",
        "elif oper == \"*\":\n",
        "    print(\"Multiplication is =\",num1*num2)\n",
        "elif oper == \"/\":\n",
        "    print(\"Division is =\",num1/num2)            \n",
        "else:\n",
        "    print(\"INVALID OPERATOR\")    "
      ],
      "execution_count": 27,
      "outputs": [
        {
          "output_type": "stream",
          "text": [
            "Enter number 1 = 12\n",
            "Enter number 2 = 2\n",
            "enter operator = \n",
            " Addition : + ,\n",
            " Substraction : - ,\n",
            " Multiplication : * ,\n",
            " Division : / \n",
            "/\n",
            "Division is = 6.0\n"
          ],
          "name": "stdout"
        }
      ]
    },
    {
      "cell_type": "code",
      "metadata": {
        "colab": {
          "base_uri": "https://localhost:8080/"
        },
        "id": "NRfJNezbtsCM",
        "outputId": "ba0b6236-9711-4310-dd22-488dcc5d6752"
      },
      "source": [
        "#with using function\n",
        "def add(a,b):\n",
        "    return a+b\n",
        "def sub(a,b):\n",
        "    return a-b\n",
        "def mul(a,b):\n",
        "    return a*b\n",
        "def div(a,b):\n",
        "    return a/b        \n",
        "    \n",
        "a=int(input(\"Enter number 1 = \"))    \n",
        "b=int(input(\"Enter number 2 = \"))\n",
        "\n",
        "oper=int(input(\"Select your operation \\n 1=Addition \\n 2=Substraction \\n 3=Multiplication \\n 4=Division \\n\"))\n",
        "if oper==1:\n",
        "    print(a,\"+\",b,\"=\",add(a,b))\n",
        "elif oper==2:\n",
        "    print(a,\"-\",b,\"=\",sub(a,b))\n",
        "elif oper==3:\n",
        "    print(a,\"*\",b,\"=\",mul(a,b))\n",
        "elif oper==4:\n",
        "    print(a,\"/\",b,\"=\",div(a,b))\n",
        "else :\n",
        "    print(\"Invalid Operation\")                "
      ],
      "execution_count": 37,
      "outputs": [
        {
          "output_type": "stream",
          "text": [
            "Enter number 1 = 123\n",
            "Enter number 2 = 233\n",
            "Select your operation \n",
            " 1=Addition \n",
            " 2=Substraction \n",
            " 3=Multiplication \n",
            " 4=Division \n",
            "3\n",
            "123 * 233 = 28659\n"
          ],
          "name": "stdout"
        }
      ]
    }
  ]
}
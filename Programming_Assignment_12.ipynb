{
  "nbformat": 4,
  "nbformat_minor": 0,
  "metadata": {
    "colab": {
      "name": "Programming Assignment_12.ipynb",
      "provenance": [],
      "authorship_tag": "ABX9TyMM0gweL6LJEpNkymb+DKBS",
      "include_colab_link": true
    },
    "kernelspec": {
      "name": "python3",
      "display_name": "Python 3"
    },
    "language_info": {
      "name": "python"
    }
  },
  "cells": [
    {
      "cell_type": "markdown",
      "metadata": {
        "id": "view-in-github",
        "colab_type": "text"
      },
      "source": [
        "<a href=\"https://colab.research.google.com/github/NIKHIL-PINGALE/Python_basic_assignments/blob/main/Programming_Assignment_12.ipynb\" target=\"_parent\"><img src=\"https://colab.research.google.com/assets/colab-badge.svg\" alt=\"Open In Colab\"/></a>"
      ]
    },
    {
      "cell_type": "markdown",
      "metadata": {
        "id": "juo6KE1sm8i4"
      },
      "source": [
        "1. Write a Python program to Extract Unique values dictionary values?\n",
        "2. Write a Python program to find the sum of all items in a dictionary?\n",
        "3. Write a Python program to Merging two Dictionaries?\n",
        "4. Write a Python program to convert key-values list to flat dictionary?\n",
        "5. Write a Python program to insertion at the beginning in OrderedDict?\n",
        "6. Write a Python program to check order of character in string using OrderedDict()?\n",
        "7. Write a Python program to sort Python Dictionaries by Key or Value?"
      ]
    },
    {
      "cell_type": "markdown",
      "metadata": {
        "id": "uB4cg-vum_EV"
      },
      "source": [
        "# 1. Write a Python program to Extract Unique values dictionary values?\n"
      ]
    },
    {
      "cell_type": "code",
      "metadata": {
        "id": "obp_M1bXnEGG",
        "colab": {
          "base_uri": "https://localhost:8080/"
        },
        "outputId": "bdcdf0d8-977a-4ea3-b084-344208165946"
      },
      "source": [
        "my_dict = { 'a' : [1,2,3,4] , 'b' : [3,4,5,6] , 'c' : [5,6,7,8] , 'd' : [1,5,8,0]}\n",
        "uni_val = []\n",
        "for val in my_dict.values():\n",
        "    for i in val:\n",
        "        uni_val.append(i)\n",
        "print(\"extracted unique values from dictionary values are : \\n\",sorted(set(uni_val)))        "
      ],
      "execution_count": null,
      "outputs": [
        {
          "output_type": "stream",
          "name": "stdout",
          "text": [
            "extracted unique values from dictionary values are : \n",
            " [0, 1, 2, 3, 4, 5, 6, 7, 8]\n"
          ]
        }
      ]
    },
    {
      "cell_type": "markdown",
      "metadata": {
        "id": "nsvig_fj8WyB"
      },
      "source": [
        "or"
      ]
    },
    {
      "cell_type": "code",
      "metadata": {
        "colab": {
          "base_uri": "https://localhost:8080/"
        },
        "id": "3vFB5ZTt8YFY",
        "outputId": "d6a1c6fb-0245-44ee-a1dd-d40faac7e22d"
      },
      "source": [
        "my_dict = { 'a' : [1,2,3,4] , 'b' : [3,4,5,6] , 'c' : [5,6,7,8] , 'd' : [1,5,8,0]}\n",
        "print(\"original list :\",my_dict)\n",
        "unique = list(sorted({element for val in my_dict.values() for element in val}))\n",
        "print(\"extracted unique values from dictionary values are : \",unique)"
      ],
      "execution_count": null,
      "outputs": [
        {
          "output_type": "stream",
          "name": "stdout",
          "text": [
            "original list : {'a': [1, 2, 3, 4], 'b': [3, 4, 5, 6], 'c': [5, 6, 7, 8], 'd': [1, 5, 8, 0]}\n",
            "extracted unique values from dictionary values are :  [0, 1, 2, 3, 4, 5, 6, 7, 8]\n"
          ]
        }
      ]
    },
    {
      "cell_type": "markdown",
      "metadata": {
        "id": "11vK2zATnEjw"
      },
      "source": [
        "# 2. Write a Python program to find the sum of all items in a dictionary?\n"
      ]
    },
    {
      "cell_type": "code",
      "metadata": {
        "id": "7auFQORTnJGI",
        "colab": {
          "base_uri": "https://localhost:8080/"
        },
        "outputId": "acf065dd-f07a-4165-f467-8aa408a17dcb"
      },
      "source": [
        "my_dict = { 'a' : [1,2,3,4] , 'b' : [3,4,5,6] , 'c' : [5,6,7,8] , 'd' : [1,5,8,0]}\n",
        "summation = 0\n",
        "for val in my_dict.values():\n",
        "    for i in val:\n",
        "        summation+=i\n",
        "print(\"sum of all items in a dictionary :\",summation)"
      ],
      "execution_count": null,
      "outputs": [
        {
          "output_type": "stream",
          "name": "stdout",
          "text": [
            "sum of all items in a dictionary : 68\n"
          ]
        }
      ]
    },
    {
      "cell_type": "markdown",
      "metadata": {
        "id": "dsrmsnHvnJjN"
      },
      "source": [
        "# 3. Write a Python program to Merging two Dictionaries?\n"
      ]
    },
    {
      "cell_type": "code",
      "metadata": {
        "id": "vAH9U_dlnRzZ",
        "colab": {
          "base_uri": "https://localhost:8080/"
        },
        "outputId": "2bedb61d-af95-4602-92eb-96c46255bce3"
      },
      "source": [
        "dict_1 = {'a' : 1 , 'b' : 2}\n",
        "dict_2 = {'c' : 3 , 'd' : 4}\n",
        "merged_dict = dict_1.update(dict_2)\n",
        "# this returns none\n",
        "print(\"After Merging two Dictionaries :\",merged_dict)\n",
        "# changes made in dict_1\n",
        "print(\"After Merging two Dictionaries :\",dict_1)"
      ],
      "execution_count": null,
      "outputs": [
        {
          "output_type": "stream",
          "name": "stdout",
          "text": [
            "After Merging two Dictionaries : None\n",
            "After Merging two Dictionaries : {'a': 1, 'b': 2, 'c': 3, 'd': 4}\n"
          ]
        }
      ]
    },
    {
      "cell_type": "markdown",
      "metadata": {
        "id": "lOmF4ZCUnU1n"
      },
      "source": [
        "# 4. Write a Python program to convert key-values list to flat dictionary?\n"
      ]
    },
    {
      "cell_type": "code",
      "metadata": {
        "colab": {
          "base_uri": "https://localhost:8080/"
        },
        "id": "XDFL2SZ8Gn3R",
        "outputId": "819059ee-ff6a-45b0-c60e-3cf641c750b4"
      },
      "source": [
        "my_dict = {'number' : [1,2,3,4,5,6] , 'letter' : ['one','two','three','four','five','six']}\n",
        "print(\"original dictionary is :\",my_dict)\n",
        "flat_dict = dict(zip(my_dict['number'],my_dict['letter']))\n",
        "print('After converting key-values list to flat dictionary :',flat_dict)"
      ],
      "execution_count": null,
      "outputs": [
        {
          "output_type": "stream",
          "name": "stdout",
          "text": [
            "original dictionary is : {'number': [1, 2, 3, 4, 5, 6], 'letter': ['one', 'two', 'three', 'four', 'five', 'six']}\n",
            "After converting key-values list to flat dictionary : {1: 'one', 2: 'two', 3: 'three', 4: 'four', 5: 'five', 6: 'six'}\n"
          ]
        }
      ]
    },
    {
      "cell_type": "markdown",
      "metadata": {
        "id": "ZFxWejB_nY-V"
      },
      "source": [
        "# 5. Write a Python program to insertion at the beginning in OrderedDict?\n"
      ]
    },
    {
      "cell_type": "code",
      "metadata": {
        "id": "amJJoOvNna9W",
        "colab": {
          "base_uri": "https://localhost:8080/"
        },
        "outputId": "6531c836-e9fc-47e1-b78a-735cd27f665c"
      },
      "source": [
        "from collections import OrderedDict\n",
        "my_ordered_dict = OrderedDict([(\"hemant\" , 'BCA'),(\"vishal\" , 'DCA'),(\"RAJ\" , 'MCA')])\n",
        "print(\"my_ordered_dict :\",my_ordered_dict)\n",
        "my_ordered_dict.update({\"Nikhil\" : 'iNeuron'})\n",
        "my_ordered_dict.move_to_end(\"Nikhil\" ,last=False)\n",
        "print(\"After inserting at the beginning in OrderedDict :\",my_ordered_dict)"
      ],
      "execution_count": 2,
      "outputs": [
        {
          "output_type": "stream",
          "name": "stdout",
          "text": [
            "my_ordered_dict : OrderedDict([('hemant', 'BCA'), ('vishal', 'DCA'), ('RAJ', 'MCA')])\n",
            "After inserting at the beginning in OrderedDict : OrderedDict([('Nikhil', 'iNeuron'), ('hemant', 'BCA'), ('vishal', 'DCA'), ('RAJ', 'MCA')])\n"
          ]
        }
      ]
    },
    {
      "cell_type": "markdown",
      "metadata": {
        "id": "F_ZmXS-CnbdN"
      },
      "source": [
        "# 6. Write a Python program to check order of character in string using OrderedDict()?\n"
      ]
    },
    {
      "cell_type": "code",
      "metadata": {
        "id": "BykioVS6nidA",
        "colab": {
          "base_uri": "https://localhost:8080/"
        },
        "outputId": "fad1bd73-4807-4524-84d3-868f3f8e5f87"
      },
      "source": [
        "from collections import OrderedDict\n",
        "\n",
        "\n",
        "def checkorder(my_string,my_pattern):\n",
        "\n",
        "    my_dict = OrderedDict.fromkeys(my_string)\n",
        "    pattern_len = 0\n",
        "    for key,value in my_dict.items():\n",
        "        if (key == my_pattern[pattern_len]):\n",
        "            pattern_len += 1 \n",
        "\n",
        "        if (pattern_len == (len(my_pattern))):\n",
        "            return \"true\"\n",
        "    # if we come out of the loop it means order was mismatched         \n",
        "    return \"false\"\n",
        "\n",
        "my_string = \"proud to be a part of ineuron\"\n",
        "my_pattern = \"proute\"\n",
        "print(checkorder(my_string,my_pattern))\n"
      ],
      "execution_count": 13,
      "outputs": [
        {
          "output_type": "stream",
          "name": "stdout",
          "text": [
            "true\n"
          ]
        }
      ]
    },
    {
      "cell_type": "markdown",
      "metadata": {
        "id": "qCSa3OL-nkzT"
      },
      "source": [
        "# 7. Write a Python program to sort Python Dictionaries by Key or Value?"
      ]
    },
    {
      "cell_type": "markdown",
      "metadata": {
        "id": "cWCXqFb-aRod"
      },
      "source": [
        "sorted by keys"
      ]
    },
    {
      "cell_type": "code",
      "metadata": {
        "id": "_3zxuOjDnmS3",
        "colab": {
          "base_uri": "https://localhost:8080/"
        },
        "outputId": "49f256d4-8e6d-4955-ac2f-4cab300bd93b"
      },
      "source": [
        "# dictoinary of cricket\n",
        "cricket_dict = {\"balls\" : 120 , \"wicket\" : 9 , \"over\" : 50 , \"six\" : 12 , \"four\" : 27}\n",
        "for key in sorted(cricket_dict):\n",
        "    print(\"{} : {}\".format(key,cricket_dict[key]))"
      ],
      "execution_count": 24,
      "outputs": [
        {
          "output_type": "stream",
          "name": "stdout",
          "text": [
            "balls : 120\n",
            "four : 27\n",
            "over : 50\n",
            "six : 12\n",
            "wicket : 9\n"
          ]
        }
      ]
    },
    {
      "cell_type": "markdown",
      "metadata": {
        "id": "XlmMwpTSaQvJ"
      },
      "source": [
        "sorted by values"
      ]
    },
    {
      "cell_type": "code",
      "metadata": {
        "colab": {
          "base_uri": "https://localhost:8080/"
        },
        "id": "ZICS_MkWa5DM",
        "outputId": "914f80c9-52ff-4238-ccb5-8811f039417b"
      },
      "source": [
        "cricket_dict = {\"balls\" : 120 , \"wicket\" : 9 , \"over\" : 50 , \"six\" : 12 , \"four\" : 27}\n",
        "cricket_list = sorted(cricket_dict.items() , key = lambda x:x[1]) \n",
        "print(\"After sorting by values :\",dict(cricket_list))"
      ],
      "execution_count": 22,
      "outputs": [
        {
          "output_type": "stream",
          "name": "stdout",
          "text": [
            "After sorting by values : {'wicket': 9, 'six': 12, 'four': 27, 'over': 50, 'balls': 120}\n"
          ]
        }
      ]
    }
  ]
}